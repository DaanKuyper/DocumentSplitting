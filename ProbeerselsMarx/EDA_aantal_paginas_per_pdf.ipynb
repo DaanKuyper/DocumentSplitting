{
 "cells": [
  {
   "cell_type": "code",
   "execution_count": 1,
   "id": "635989ae",
   "metadata": {},
   "outputs": [],
   "source": [
    "import pandas as pd\n",
    "import seaborn as sns\n",
    "%matplotlib inline"
   ]
  },
  {
   "cell_type": "code",
   "execution_count": 23,
   "id": "18cf0d79",
   "metadata": {},
   "outputs": [
    {
     "name": "stdout",
     "output_type": "stream",
     "text": [
      "(368, 12)\n"
     ]
    },
    {
     "data": {
      "text/html": [
       "<div>\n",
       "<style scoped>\n",
       "    .dataframe tbody tr th:only-of-type {\n",
       "        vertical-align: middle;\n",
       "    }\n",
       "\n",
       "    .dataframe tbody tr th {\n",
       "        vertical-align: top;\n",
       "    }\n",
       "\n",
       "    .dataframe thead th {\n",
       "        text-align: right;\n",
       "    }\n",
       "</style>\n",
       "<table border=\"1\" class=\"dataframe\">\n",
       "  <thead>\n",
       "    <tr style=\"text-align: right;\">\n",
       "      <th></th>\n",
       "      <th>WobFile</th>\n",
       "      <th>WobURL</th>\n",
       "      <th>WobTitle</th>\n",
       "      <th>WobDate</th>\n",
       "      <th>PdfName</th>\n",
       "      <th>PdfUrl</th>\n",
       "      <th>PdfDate</th>\n",
       "      <th>Size</th>\n",
       "      <th>PdfTitle</th>\n",
       "      <th>PdfPages (meta)</th>\n",
       "      <th>WordsPerPage</th>\n",
       "      <th>PageLength</th>\n",
       "    </tr>\n",
       "  </thead>\n",
       "  <tbody>\n",
       "    <tr>\n",
       "      <th>0</th>\n",
       "      <td>5e745681a2659dadb7ac782f4e012350</td>\n",
       "      <td>https://wobcovid19.rijksoverheid.nl/publicatie...</td>\n",
       "      <td>Besluit Wob-verzoek logboeken ambtenaren coron...</td>\n",
       "      <td>6/9/2020 0:00</td>\n",
       "      <td>Besluit</td>\n",
       "      <td>https://wobcovid19.rijksoverheid.nl/publicatie...</td>\n",
       "      <td>9/6/2020</td>\n",
       "      <td>81 kB</td>\n",
       "      <td>NaN</td>\n",
       "      <td>1 (1)</td>\n",
       "      <td>232</td>\n",
       "      <td>1</td>\n",
       "    </tr>\n",
       "    <tr>\n",
       "      <th>1</th>\n",
       "      <td>b5ca6a88b275fda712ca471bb77fec92</td>\n",
       "      <td>https://wobcovid19.rijksoverheid.nl/publicatie...</td>\n",
       "      <td>Besluit Wob-verzoek logboeken coronacrisis min...</td>\n",
       "      <td>6/9/2020 0:00</td>\n",
       "      <td>Besluit</td>\n",
       "      <td>https://wobcovid19.rijksoverheid.nl/publicatie...</td>\n",
       "      <td>9/6/2020</td>\n",
       "      <td>71 kB</td>\n",
       "      <td>NaN</td>\n",
       "      <td>1 (1)</td>\n",
       "      <td>197</td>\n",
       "      <td>1</td>\n",
       "    </tr>\n",
       "    <tr>\n",
       "      <th>2</th>\n",
       "      <td>5d450bf985589e1cbc6f16aa43d9fe29</td>\n",
       "      <td>https://wobcovid19.rijksoverheid.nl/publicatie...</td>\n",
       "      <td>Besluit Wob-verzoek Tozo-beschikkingen</td>\n",
       "      <td>7/30/2020 0:00</td>\n",
       "      <td>Besluit</td>\n",
       "      <td>https://wobcovid19.rijksoverheid.nl/publicatie...</td>\n",
       "      <td>30-07-2020</td>\n",
       "      <td>945 kB</td>\n",
       "      <td>NaN</td>\n",
       "      <td>3 (3)</td>\n",
       "      <td>208</td>\n",
       "      <td>3</td>\n",
       "    </tr>\n",
       "    <tr>\n",
       "      <th>3</th>\n",
       "      <td>5d450bf985589e1cbc6f16aa43d9fe29</td>\n",
       "      <td>https://wobcovid19.rijksoverheid.nl/publicatie...</td>\n",
       "      <td>Besluit Wob-verzoek Tozo-beschikkingen</td>\n",
       "      <td>7/30/2020 0:00</td>\n",
       "      <td>Lijst van documenten</td>\n",
       "      <td>https://wobcovid19.rijksoverheid.nl/publicatie...</td>\n",
       "      <td>30-07-2020</td>\n",
       "      <td>292 kB</td>\n",
       "      <td>NaN</td>\n",
       "      <td>4 (4)</td>\n",
       "      <td>352</td>\n",
       "      <td>4</td>\n",
       "    </tr>\n",
       "    <tr>\n",
       "      <th>4</th>\n",
       "      <td>5d450bf985589e1cbc6f16aa43d9fe29</td>\n",
       "      <td>https://wobcovid19.rijksoverheid.nl/publicatie...</td>\n",
       "      <td>Besluit Wob-verzoek Tozo-beschikkingen</td>\n",
       "      <td>7/30/2020 0:00</td>\n",
       "      <td>Openbaar gemaakte documenten</td>\n",
       "      <td>https://wobcovid19.rijksoverheid.nl/publicatie...</td>\n",
       "      <td>30-07-2020</td>\n",
       "      <td>6 MB</td>\n",
       "      <td>NaN</td>\n",
       "      <td>180 (180)</td>\n",
       "      <td>202</td>\n",
       "      <td>180</td>\n",
       "    </tr>\n",
       "  </tbody>\n",
       "</table>\n",
       "</div>"
      ],
      "text/plain": [
       "                            WobFile  \\\n",
       "0  5e745681a2659dadb7ac782f4e012350   \n",
       "1  b5ca6a88b275fda712ca471bb77fec92   \n",
       "2  5d450bf985589e1cbc6f16aa43d9fe29   \n",
       "3  5d450bf985589e1cbc6f16aa43d9fe29   \n",
       "4  5d450bf985589e1cbc6f16aa43d9fe29   \n",
       "\n",
       "                                              WobURL  \\\n",
       "0  https://wobcovid19.rijksoverheid.nl/publicatie...   \n",
       "1  https://wobcovid19.rijksoverheid.nl/publicatie...   \n",
       "2  https://wobcovid19.rijksoverheid.nl/publicatie...   \n",
       "3  https://wobcovid19.rijksoverheid.nl/publicatie...   \n",
       "4  https://wobcovid19.rijksoverheid.nl/publicatie...   \n",
       "\n",
       "                                            WobTitle         WobDate  \\\n",
       "0  Besluit Wob-verzoek logboeken ambtenaren coron...   6/9/2020 0:00   \n",
       "1  Besluit Wob-verzoek logboeken coronacrisis min...   6/9/2020 0:00   \n",
       "2             Besluit Wob-verzoek Tozo-beschikkingen  7/30/2020 0:00   \n",
       "3             Besluit Wob-verzoek Tozo-beschikkingen  7/30/2020 0:00   \n",
       "4             Besluit Wob-verzoek Tozo-beschikkingen  7/30/2020 0:00   \n",
       "\n",
       "                        PdfName  \\\n",
       "0                       Besluit   \n",
       "1                       Besluit   \n",
       "2                       Besluit   \n",
       "3          Lijst van documenten   \n",
       "4  Openbaar gemaakte documenten   \n",
       "\n",
       "                                              PdfUrl     PdfDate    Size  \\\n",
       "0  https://wobcovid19.rijksoverheid.nl/publicatie...    9/6/2020   81 kB   \n",
       "1  https://wobcovid19.rijksoverheid.nl/publicatie...    9/6/2020   71 kB   \n",
       "2  https://wobcovid19.rijksoverheid.nl/publicatie...  30-07-2020  945 kB   \n",
       "3  https://wobcovid19.rijksoverheid.nl/publicatie...  30-07-2020  292 kB   \n",
       "4  https://wobcovid19.rijksoverheid.nl/publicatie...  30-07-2020    6 MB   \n",
       "\n",
       "   PdfTitle  PdfPages (meta)   WordsPerPage  PageLength  \n",
       "0       NaN            1 (1)            232           1  \n",
       "1       NaN            1 (1)            197           1  \n",
       "2       NaN            3 (3)            208           3  \n",
       "3       NaN            4 (4)            352           4  \n",
       "4       NaN        180 (180)            202         180  "
      ]
     },
     "execution_count": 23,
     "metadata": {},
     "output_type": "execute_result"
    }
   ],
   "source": [
    "df=pd.read_csv(\"../OverviewReport.csv\")\n",
    "df['PageLength']=df[' PdfPages (meta)'].str.replace(r'\\(.*\\)','').astype(int)\n",
    "\n",
    "\n",
    " \n",
    "print(df.shape)\n",
    "df.head()"
   ]
  },
  {
   "cell_type": "code",
   "execution_count": 24,
   "id": "d0cd8609",
   "metadata": {},
   "outputs": [
    {
     "name": "stdout",
     "output_type": "stream",
     "text": [
      "count     368.000000\n",
      "mean       68.763587\n",
      "std       147.127634\n",
      "min         0.000000\n",
      "25%         5.000000\n",
      "50%        15.000000\n",
      "75%        75.250000\n",
      "max      1481.000000\n",
      "Name: PageLength, dtype: float64\n"
     ]
    },
    {
     "data": {
      "image/png": "[encoded data removed]",
      "text/plain": [
       "<Figure size 360x360 with 1 Axes>"
      ]
     },
     "metadata": {
      "needs_background": "light"
     },
     "output_type": "display_data"
    }
   ],
   "source": [
    "\n",
    "print(df.PageLength.describe())\n",
    "sns.displot(df['PageLength']);"
   ]
  },
  {
   "cell_type": "markdown",
   "id": "9f74586a",
   "metadata": {},
   "source": [
    "# Alternatieve telling van aantal paginas per file\n",
    "\n",
    "* via de pdftohtml output\n",
    "* gek genoeg hebben we wel een flink aantal minder files...\n",
    "* Maar goed, de aantallen zijn echt anders.\n"
   ]
  },
  {
   "cell_type": "code",
   "execution_count": 33,
   "id": "2e7389b8",
   "metadata": {},
   "outputs": [
    {
     "data": {
      "text/plain": [
       "count     328.000000\n",
       "mean       99.317073\n",
       "std       337.768124\n",
       "min         1.000000\n",
       "25%         5.000000\n",
       "50%        19.500000\n",
       "75%        80.000000\n",
       "max      4910.000000\n",
       "dtype: float64"
      ]
     },
     "execution_count": 33,
     "metadata": {},
     "output_type": "execute_result"
    },
    {
     "data": {
      "image/png": "[encoded data removed]",
      "text/plain": [
       "<Figure size 360x360 with 1 Axes>"
      ]
     },
     "metadata": {
      "needs_background": "light"
     },
     "output_type": "display_data"
    }
   ],
   "source": [
    "L=! grep -c '/page>' ../CovidWOBPDFs/*.xml\n",
    "pagelengths={r.split(':')[0]: int(r.split(':')[1]) for r in  L}\n",
    "PL= pd.Series(pagelengths)\n",
    "sns.displot(PL)\n",
    "PL.describe()"
   ]
  },
  {
   "cell_type": "code",
   "execution_count": null,
   "id": "c4447d92",
   "metadata": {},
   "outputs": [],
   "source": []
  }
 ],
 "metadata": {
  "kernelspec": {
   "display_name": "Python 3",
   "language": "python",
   "name": "python3"
  },
  "language_info": {
   "codemirror_mode": {
    "name": "ipython",
    "version": 3
   },
   "file_extension": ".py",
   "mimetype": "text/x-python",
   "name": "python",
   "nbconvert_exporter": "python",
   "pygments_lexer": "ipython3",
   "version": "3.6.3"
  },
  "toc": {
   "nav_menu": {},
   "number_sections": false,
   "sideBar": true,
   "skip_h1_title": false,
   "title_cell": "Table of Contents",
   "title_sidebar": "Contents",
   "toc_cell": false,
   "toc_position": {},
   "toc_section_display": true,
   "toc_window_display": false
  }
 },
 "nbformat": 4,
 "nbformat_minor": 5
}
