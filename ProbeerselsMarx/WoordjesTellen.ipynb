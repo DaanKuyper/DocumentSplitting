{
 "cells": [
  {
   "cell_type": "markdown",
   "id": "910ad352",
   "metadata": {},
   "source": [
    "# Tellen\n",
    "\n",
    "We gaan per document, en per pagina het volgende tellen\n",
    "\n",
    "* aantal text velden\n",
    "* aantal plaatjes\n",
    "* aantal woorden\n",
    "* aantal letters"
   ]
  },
  {
   "cell_type": "code",
   "execution_count": 111,
   "id": "8125a1e1",
   "metadata": {},
   "outputs": [],
   "source": [
    "import pandas as pd\n",
    "import re\n",
    "%matplotlib inline\n",
    "from lxml import etree\n",
    "from collections import defaultdict\n",
    "import seaborn as sns\n",
    "import numpy as np"
   ]
  },
  {
   "cell_type": "code",
   "execution_count": 20,
   "id": "75cf9831",
   "metadata": {},
   "outputs": [
    {
     "data": {
      "text/plain": [
       "72"
      ]
     },
     "execution_count": 20,
     "metadata": {},
     "output_type": "execute_result"
    }
   ],
   "source": [
    "# read xml\n",
    "\n",
    "vb = '../CovidWOBPDFs/8b8890d6058f24465456cc410f4262ae_documenten.xml'\n",
    "root = etree.parse(vb)\n",
    " \n",
    "pages = root.xpath('//page')\n",
    "len(pages)"
   ]
  },
  {
   "cell_type": "code",
   "execution_count": 85,
   "id": "19ceb90f",
   "metadata": {},
   "outputs": [],
   "source": [
    "def tellenPerCorpus(L):\n",
    "    DB=dict()\n",
    "    for f in L:\n",
    "        root = etree.parse(f)\n",
    "        pages = root.xpath('//page')\n",
    "        DB[f]=tellenPerfile(pages)\n",
    "    return DB\n",
    "\n",
    "def tellenPerfile(pages):\n",
    "    DB=dict()\n",
    "    for page in pages:\n",
    "        # aantal text\n",
    "        nrtext= len(page.xpath('text'))\n",
    "        # aantal plaatjes\n",
    "        nrimg=len(page.xpath('image'))\n",
    "        # aantal woorden\n",
    "        nrwords= sum(len(re.split(r'\\W+',text.strip())) for text in page.xpath('text/text()')\n",
    "                    if text.strip())\n",
    "        # aantal karakters zonder spatie\n",
    "        nrchars= sum(len(re.sub(r'\\s','',text)) for text in page.xpath('text/text()')\n",
    "                    if text.strip())\n",
    "        DB[int(page.xpath('@number')[0] )]= {'text':nrtext,\n",
    "                                             'img':nrimg,\n",
    "                                            'nrwords':nrwords,\n",
    "                                            'nrchars': nrchars}\n",
    "    return DB\n",
    "\n",
    "# test\n",
    "#tellenPerfile(pages)\n",
    "\n",
    "\n"
   ]
  },
  {
   "cell_type": "code",
   "execution_count": 86,
   "id": "8b558cb0",
   "metadata": {},
   "outputs": [
    {
     "name": "stdout",
     "output_type": "stream",
     "text": [
      "/Users/admin/surfdrive/onderwijs/Afstudeerders/20212022/DaanKuypers/DocumentSplitting/CovidWOBPDFs\n",
      "CPU times: user 29.5 s, sys: 2.33 s, total: 31.8 s\n",
      "Wall time: 33.7 s\n"
     ]
    }
   ],
   "source": [
    "%%time \n",
    "%cd ../CovidWOBPDFs/\n",
    "L=!ls *.xml\n",
    "AllCounts=tellenPerCorpus(L)"
   ]
  },
  {
   "cell_type": "code",
   "execution_count": 88,
   "id": "8771aba2",
   "metadata": {},
   "outputs": [
    {
     "data": {
      "text/html": [
       "<div>\n",
       "<style scoped>\n",
       "    .dataframe tbody tr th:only-of-type {\n",
       "        vertical-align: middle;\n",
       "    }\n",
       "\n",
       "    .dataframe tbody tr th {\n",
       "        vertical-align: top;\n",
       "    }\n",
       "\n",
       "    .dataframe thead th {\n",
       "        text-align: right;\n",
       "    }\n",
       "</style>\n",
       "<table border=\"1\" class=\"dataframe\">\n",
       "  <thead>\n",
       "    <tr style=\"text-align: right;\">\n",
       "      <th></th>\n",
       "      <th></th>\n",
       "      <th>text</th>\n",
       "      <th>img</th>\n",
       "      <th>nrwords</th>\n",
       "      <th>nrchars</th>\n",
       "    </tr>\n",
       "  </thead>\n",
       "  <tbody>\n",
       "    <tr>\n",
       "      <th rowspan=\"3\" valign=\"top\">0068ed0b40cca6270f857d2614cc63c0_besluit.xml</th>\n",
       "      <th>1</th>\n",
       "      <td>74</td>\n",
       "      <td>2</td>\n",
       "      <td>309</td>\n",
       "      <td>1467</td>\n",
       "    </tr>\n",
       "    <tr>\n",
       "      <th>2</th>\n",
       "      <td>65</td>\n",
       "      <td>0</td>\n",
       "      <td>390</td>\n",
       "      <td>1942</td>\n",
       "    </tr>\n",
       "    <tr>\n",
       "      <th>3</th>\n",
       "      <td>65</td>\n",
       "      <td>0</td>\n",
       "      <td>447</td>\n",
       "      <td>2471</td>\n",
       "    </tr>\n",
       "    <tr>\n",
       "      <th>0068ed0b40cca6270f857d2614cc63c0_document.xml</th>\n",
       "      <th>1</th>\n",
       "      <td>83</td>\n",
       "      <td>0</td>\n",
       "      <td>192</td>\n",
       "      <td>1050</td>\n",
       "    </tr>\n",
       "    <tr>\n",
       "      <th>0272cdb141e62321341591f0959794a2_derde-deelbesluit-aantal-aanwezigen-in-kerken.xml</th>\n",
       "      <th>1</th>\n",
       "      <td>0</td>\n",
       "      <td>1</td>\n",
       "      <td>0</td>\n",
       "      <td>0</td>\n",
       "    </tr>\n",
       "    <tr>\n",
       "      <th>...</th>\n",
       "      <th>...</th>\n",
       "      <td>...</td>\n",
       "      <td>...</td>\n",
       "      <td>...</td>\n",
       "      <td>...</td>\n",
       "    </tr>\n",
       "    <tr>\n",
       "      <th rowspan=\"5\" valign=\"top\">0272cdb141e62321341591f0959794a2_wob-documenten.xml</th>\n",
       "      <th>78</th>\n",
       "      <td>491</td>\n",
       "      <td>12</td>\n",
       "      <td>711</td>\n",
       "      <td>3755</td>\n",
       "    </tr>\n",
       "    <tr>\n",
       "      <th>79</th>\n",
       "      <td>433</td>\n",
       "      <td>12</td>\n",
       "      <td>677</td>\n",
       "      <td>3788</td>\n",
       "    </tr>\n",
       "    <tr>\n",
       "      <th>80</th>\n",
       "      <td>426</td>\n",
       "      <td>12</td>\n",
       "      <td>690</td>\n",
       "      <td>3686</td>\n",
       "    </tr>\n",
       "    <tr>\n",
       "      <th>81</th>\n",
       "      <td>340</td>\n",
       "      <td>12</td>\n",
       "      <td>530</td>\n",
       "      <td>2830</td>\n",
       "    </tr>\n",
       "    <tr>\n",
       "      <th>82</th>\n",
       "      <td>496</td>\n",
       "      <td>12</td>\n",
       "      <td>729</td>\n",
       "      <td>3471</td>\n",
       "    </tr>\n",
       "  </tbody>\n",
       "</table>\n",
       "<p>100 rows × 4 columns</p>\n",
       "</div>"
      ],
      "text/plain": [
       "                                                       text  img  nrwords  \\\n",
       "0068ed0b40cca6270f857d2614cc63c0_besluit.xml       1     74    2      309   \n",
       "                                                   2     65    0      390   \n",
       "                                                   3     65    0      447   \n",
       "0068ed0b40cca6270f857d2614cc63c0_document.xml      1     83    0      192   \n",
       "0272cdb141e62321341591f0959794a2_derde-deelbesl... 1      0    1        0   \n",
       "...                                                     ...  ...      ...   \n",
       "0272cdb141e62321341591f0959794a2_wob-documenten... 78   491   12      711   \n",
       "                                                   79   433   12      677   \n",
       "                                                   80   426   12      690   \n",
       "                                                   81   340   12      530   \n",
       "                                                   82   496   12      729   \n",
       "\n",
       "                                                       nrchars  \n",
       "0068ed0b40cca6270f857d2614cc63c0_besluit.xml       1      1467  \n",
       "                                                   2      1942  \n",
       "                                                   3      2471  \n",
       "0068ed0b40cca6270f857d2614cc63c0_document.xml      1      1050  \n",
       "0272cdb141e62321341591f0959794a2_derde-deelbesl... 1         0  \n",
       "...                                                        ...  \n",
       "0272cdb141e62321341591f0959794a2_wob-documenten... 78     3755  \n",
       "                                                   79     3788  \n",
       "                                                   80     3686  \n",
       "                                                   81     2830  \n",
       "                                                   82     3471  \n",
       "\n",
       "[100 rows x 4 columns]"
      ]
     },
     "execution_count": 88,
     "metadata": {},
     "output_type": "execute_result"
    }
   ],
   "source": [
    "# data frame met multiindex (filenaam, pagina nr)\n",
    "\n",
    "df =pd.DataFrame.from_dict({(i,j): AllCounts[i][j] \n",
    "                           for i in AllCounts.keys() \n",
    "                           for j in AllCounts[i].keys()},\n",
    "                       orient='index')\n",
    "df.head(100)"
   ]
  },
  {
   "cell_type": "code",
   "execution_count": 141,
   "id": "ce591d0b",
   "metadata": {},
   "outputs": [
    {
     "data": {
      "text/html": [
       "<div>\n",
       "<style scoped>\n",
       "    .dataframe tbody tr th:only-of-type {\n",
       "        vertical-align: middle;\n",
       "    }\n",
       "\n",
       "    .dataframe tbody tr th {\n",
       "        vertical-align: top;\n",
       "    }\n",
       "\n",
       "    .dataframe thead th {\n",
       "        text-align: right;\n",
       "    }\n",
       "</style>\n",
       "<table border=\"1\" class=\"dataframe\">\n",
       "  <thead>\n",
       "    <tr style=\"text-align: right;\">\n",
       "      <th></th>\n",
       "      <th>page</th>\n",
       "      <th>text</th>\n",
       "      <th>img</th>\n",
       "      <th>nrwords</th>\n",
       "      <th>nrchars</th>\n",
       "    </tr>\n",
       "    <tr>\n",
       "      <th>file</th>\n",
       "      <th></th>\n",
       "      <th></th>\n",
       "      <th></th>\n",
       "      <th></th>\n",
       "      <th></th>\n",
       "    </tr>\n",
       "  </thead>\n",
       "  <tbody>\n",
       "    <tr>\n",
       "      <th>0068ed0b40cca6270f857d2614cc63c0_besluit.xml</th>\n",
       "      <td>1</td>\n",
       "      <td>74</td>\n",
       "      <td>2</td>\n",
       "      <td>309</td>\n",
       "      <td>1467</td>\n",
       "    </tr>\n",
       "    <tr>\n",
       "      <th>0068ed0b40cca6270f857d2614cc63c0_besluit.xml</th>\n",
       "      <td>2</td>\n",
       "      <td>65</td>\n",
       "      <td>0</td>\n",
       "      <td>390</td>\n",
       "      <td>1942</td>\n",
       "    </tr>\n",
       "    <tr>\n",
       "      <th>0068ed0b40cca6270f857d2614cc63c0_besluit.xml</th>\n",
       "      <td>3</td>\n",
       "      <td>65</td>\n",
       "      <td>0</td>\n",
       "      <td>447</td>\n",
       "      <td>2471</td>\n",
       "    </tr>\n",
       "    <tr>\n",
       "      <th>0068ed0b40cca6270f857d2614cc63c0_document.xml</th>\n",
       "      <td>1</td>\n",
       "      <td>83</td>\n",
       "      <td>0</td>\n",
       "      <td>192</td>\n",
       "      <td>1050</td>\n",
       "    </tr>\n",
       "    <tr>\n",
       "      <th>0272cdb141e62321341591f0959794a2_derde-deelbesluit-aantal-aanwezigen-in-kerken.xml</th>\n",
       "      <td>1</td>\n",
       "      <td>0</td>\n",
       "      <td>1</td>\n",
       "      <td>0</td>\n",
       "      <td>0</td>\n",
       "    </tr>\n",
       "  </tbody>\n",
       "</table>\n",
       "</div>"
      ],
      "text/plain": [
       "                                                    page  text  img  nrwords  \\\n",
       "file                                                                           \n",
       "0068ed0b40cca6270f857d2614cc63c0_besluit.xml           1    74    2      309   \n",
       "0068ed0b40cca6270f857d2614cc63c0_besluit.xml           2    65    0      390   \n",
       "0068ed0b40cca6270f857d2614cc63c0_besluit.xml           3    65    0      447   \n",
       "0068ed0b40cca6270f857d2614cc63c0_document.xml          1    83    0      192   \n",
       "0272cdb141e62321341591f0959794a2_derde-deelbesl...     1     0    1        0   \n",
       "\n",
       "                                                    nrchars  \n",
       "file                                                         \n",
       "0068ed0b40cca6270f857d2614cc63c0_besluit.xml           1467  \n",
       "0068ed0b40cca6270f857d2614cc63c0_besluit.xml           1942  \n",
       "0068ed0b40cca6270f857d2614cc63c0_besluit.xml           2471  \n",
       "0068ed0b40cca6270f857d2614cc63c0_document.xml          1050  \n",
       "0272cdb141e62321341591f0959794a2_derde-deelbesl...        0  "
      ]
     },
     "execution_count": 141,
     "metadata": {},
     "output_type": "execute_result"
    }
   ],
   "source": [
    "# geen multi-index df meer\n",
    "\n",
    "df.index.names=['file','page']\n",
    "df2= df.reset_index(1)\n",
    "df2.head()"
   ]
  },
  {
   "cell_type": "markdown",
   "id": "419b38d4",
   "metadata": {},
   "source": [
    "# Overzichten per file/document\n",
    "\n",
    "## Number of pages"
   ]
  },
  {
   "cell_type": "code",
   "execution_count": 133,
   "id": "dd232582",
   "metadata": {},
   "outputs": [
    {
     "data": {
      "text/plain": [
       "count     328.000000\n",
       "mean       99.317073\n",
       "std       337.768124\n",
       "min         1.000000\n",
       "25%         5.000000\n",
       "50%        19.500000\n",
       "75%        80.000000\n",
       "max      4910.000000\n",
       "Name: page, dtype: float64"
      ]
     },
     "execution_count": 133,
     "metadata": {},
     "output_type": "execute_result"
    },
    {
     "data": {
      "image/png": "[encoded data removed]",
      "text/plain": [
       "<Figure size 360x360 with 1 Axes>"
      ]
     },
     "metadata": {
      "needs_background": "light"
     },
     "output_type": "display_data"
    }
   ],
   "source": [
    "sns.displot((df2.groupby('file')['page'].count()), log_scale=(True,False) );\n",
    "df2.groupby('file')['page'].count().describe()"
   ]
  },
  {
   "cell_type": "markdown",
   "id": "2a473e53",
   "metadata": {},
   "source": [
    "# Nr of andere dingen\n",
    "\n",
    "* Ik tel steeds 1 erbij op voor de log schaal (dus die aparte staaf links zijn het aantal nulletjes)\n",
    "* text, woorden en karakgters zijn netjes lognormaal verdeeld. images niet."
   ]
  },
  {
   "cell_type": "code",
   "execution_count": 140,
   "id": "5a35361c",
   "metadata": {},
   "outputs": [
    {
     "data": {
      "text/html": [
       "<div>\n",
       "<style scoped>\n",
       "    .dataframe tbody tr th:only-of-type {\n",
       "        vertical-align: middle;\n",
       "    }\n",
       "\n",
       "    .dataframe tbody tr th {\n",
       "        vertical-align: top;\n",
       "    }\n",
       "\n",
       "    .dataframe thead th {\n",
       "        text-align: right;\n",
       "    }\n",
       "</style>\n",
       "<table border=\"1\" class=\"dataframe\">\n",
       "  <thead>\n",
       "    <tr style=\"text-align: right;\">\n",
       "      <th></th>\n",
       "      <th>text</th>\n",
       "      <th>img</th>\n",
       "      <th>nrwords</th>\n",
       "      <th>nrchars</th>\n",
       "    </tr>\n",
       "  </thead>\n",
       "  <tbody>\n",
       "    <tr>\n",
       "      <th>count</th>\n",
       "      <td>328.0</td>\n",
       "      <td>328.0</td>\n",
       "      <td>328.0</td>\n",
       "      <td>328.0</td>\n",
       "    </tr>\n",
       "    <tr>\n",
       "      <th>mean</th>\n",
       "      <td>11889.0</td>\n",
       "      <td>745.0</td>\n",
       "      <td>21056.0</td>\n",
       "      <td>97645.0</td>\n",
       "    </tr>\n",
       "    <tr>\n",
       "      <th>std</th>\n",
       "      <td>63527.0</td>\n",
       "      <td>4159.0</td>\n",
       "      <td>93762.0</td>\n",
       "      <td>445672.0</td>\n",
       "    </tr>\n",
       "    <tr>\n",
       "      <th>min</th>\n",
       "      <td>0.0</td>\n",
       "      <td>0.0</td>\n",
       "      <td>0.0</td>\n",
       "      <td>0.0</td>\n",
       "    </tr>\n",
       "    <tr>\n",
       "      <th>25%</th>\n",
       "      <td>302.0</td>\n",
       "      <td>2.0</td>\n",
       "      <td>576.0</td>\n",
       "      <td>2698.0</td>\n",
       "    </tr>\n",
       "    <tr>\n",
       "      <th>50%</th>\n",
       "      <td>1220.0</td>\n",
       "      <td>20.0</td>\n",
       "      <td>3249.0</td>\n",
       "      <td>16412.0</td>\n",
       "    </tr>\n",
       "    <tr>\n",
       "      <th>75%</th>\n",
       "      <td>5529.0</td>\n",
       "      <td>136.0</td>\n",
       "      <td>16436.0</td>\n",
       "      <td>70174.0</td>\n",
       "    </tr>\n",
       "    <tr>\n",
       "      <th>max</th>\n",
       "      <td>862263.0</td>\n",
       "      <td>63393.0</td>\n",
       "      <td>1256710.0</td>\n",
       "      <td>6026379.0</td>\n",
       "    </tr>\n",
       "  </tbody>\n",
       "</table>\n",
       "</div>"
      ],
      "text/plain": [
       "           text      img    nrwords    nrchars\n",
       "count     328.0    328.0      328.0      328.0\n",
       "mean    11889.0    745.0    21056.0    97645.0\n",
       "std     63527.0   4159.0    93762.0   445672.0\n",
       "min         0.0      0.0        0.0        0.0\n",
       "25%       302.0      2.0      576.0     2698.0\n",
       "50%      1220.0     20.0     3249.0    16412.0\n",
       "75%      5529.0    136.0    16436.0    70174.0\n",
       "max    862263.0  63393.0  1256710.0  6026379.0"
      ]
     },
     "execution_count": 140,
     "metadata": {},
     "output_type": "execute_result"
    },
    {
     "data": {
      "image/png": "[encoded data removed]",
      "text/plain": [
       "<Figure size 360x360 with 1 Axes>"
      ]
     },
     "metadata": {
      "needs_background": "light"
     },
     "output_type": "display_data"
    },
    {
     "data": {
      "image/png": "[encoded data removed]",
      "text/plain": [
       "<Figure size 360x360 with 1 Axes>"
      ]
     },
     "metadata": {
      "needs_background": "light"
     },
     "output_type": "display_data"
    },
    {
     "data": {
      "image/png": "[encoded data removed]",
      "text/plain": [
       "<Figure size 360x360 with 1 Axes>"
      ]
     },
     "metadata": {
      "needs_background": "light"
     },
     "output_type": "display_data"
    },
    {
     "data": {
      "image/png": "[encoded data removed]",
      "text/plain": [
       "<Figure size 360x360 with 1 Axes>"
      ]
     },
     "metadata": {
      "needs_background": "light"
     },
     "output_type": "display_data"
    }
   ],
   "source": [
    "tellingen_per_doc= df2[['text', 'img', 'nrwords', 'nrchars']].groupby('file').sum()\n",
    "\n",
    "for k in ['text', 'img', 'nrwords', 'nrchars']:\n",
    "    sns.displot(tellingen_per_doc[k]+1, log_scale=(True,False)  );\n",
    "#sns.displot(tellingen_per_doc.text+0.1, log_scale=(True,False)  );\n",
    "tellingen_per_doc.describe().round(0)"
   ]
  },
  {
   "cell_type": "markdown",
   "id": "fa95a480",
   "metadata": {},
   "source": [
    "# Overzicht per pagina\n",
    "\n",
    "* 32.5K paginas\n",
    "* 8519 zonder ook maar 1 karakter\n",
    "* 253 daarvan hebben ook geen image, en de meeste dus ook geen text elementen\n",
    "\n",
    "## verdelingen\n",
    "\n",
    "* img heeft de neiging er 12 per pagina te maken\n",
    "* andere met een grote piek bij de 0, en dan tsja, lognormaal , met wa meer waardes in de kleine getallen\n",
    "    "
   ]
  },
  {
   "cell_type": "code",
   "execution_count": 158,
   "id": "2db50976",
   "metadata": {},
   "outputs": [
    {
     "data": {
      "text/html": [
       "<div>\n",
       "<style scoped>\n",
       "    .dataframe tbody tr th:only-of-type {\n",
       "        vertical-align: middle;\n",
       "    }\n",
       "\n",
       "    .dataframe tbody tr th {\n",
       "        vertical-align: top;\n",
       "    }\n",
       "\n",
       "    .dataframe thead th {\n",
       "        text-align: right;\n",
       "    }\n",
       "</style>\n",
       "<table border=\"1\" class=\"dataframe\">\n",
       "  <thead>\n",
       "    <tr style=\"text-align: right;\">\n",
       "      <th></th>\n",
       "      <th>text</th>\n",
       "      <th>img</th>\n",
       "      <th>nrwords</th>\n",
       "      <th>nrchars</th>\n",
       "    </tr>\n",
       "  </thead>\n",
       "  <tbody>\n",
       "    <tr>\n",
       "      <th>count</th>\n",
       "      <td>32576.000000</td>\n",
       "      <td>32576.000000</td>\n",
       "      <td>32576.000000</td>\n",
       "      <td>32576.000000</td>\n",
       "    </tr>\n",
       "    <tr>\n",
       "      <th>mean</th>\n",
       "      <td>119.707361</td>\n",
       "      <td>7.497943</td>\n",
       "      <td>212.012064</td>\n",
       "      <td>983.169235</td>\n",
       "    </tr>\n",
       "    <tr>\n",
       "      <th>std</th>\n",
       "      <td>156.657084</td>\n",
       "      <td>108.446257</td>\n",
       "      <td>237.802371</td>\n",
       "      <td>1088.927867</td>\n",
       "    </tr>\n",
       "    <tr>\n",
       "      <th>min</th>\n",
       "      <td>0.000000</td>\n",
       "      <td>0.000000</td>\n",
       "      <td>0.000000</td>\n",
       "      <td>0.000000</td>\n",
       "    </tr>\n",
       "    <tr>\n",
       "      <th>25%</th>\n",
       "      <td>3.000000</td>\n",
       "      <td>1.000000</td>\n",
       "      <td>0.000000</td>\n",
       "      <td>0.000000</td>\n",
       "    </tr>\n",
       "    <tr>\n",
       "      <th>50%</th>\n",
       "      <td>56.000000</td>\n",
       "      <td>5.000000</td>\n",
       "      <td>142.000000</td>\n",
       "      <td>635.000000</td>\n",
       "    </tr>\n",
       "    <tr>\n",
       "      <th>75%</th>\n",
       "      <td>188.000000</td>\n",
       "      <td>13.000000</td>\n",
       "      <td>356.000000</td>\n",
       "      <td>1648.000000</td>\n",
       "    </tr>\n",
       "    <tr>\n",
       "      <th>max</th>\n",
       "      <td>2838.000000</td>\n",
       "      <td>18816.000000</td>\n",
       "      <td>3028.000000</td>\n",
       "      <td>13477.000000</td>\n",
       "    </tr>\n",
       "  </tbody>\n",
       "</table>\n",
       "</div>"
      ],
      "text/plain": [
       "               text           img       nrwords       nrchars\n",
       "count  32576.000000  32576.000000  32576.000000  32576.000000\n",
       "mean     119.707361      7.497943    212.012064    983.169235\n",
       "std      156.657084    108.446257    237.802371   1088.927867\n",
       "min        0.000000      0.000000      0.000000      0.000000\n",
       "25%        3.000000      1.000000      0.000000      0.000000\n",
       "50%       56.000000      5.000000    142.000000    635.000000\n",
       "75%      188.000000     13.000000    356.000000   1648.000000\n",
       "max     2838.000000  18816.000000   3028.000000  13477.000000"
      ]
     },
     "execution_count": 158,
     "metadata": {},
     "output_type": "execute_result"
    }
   ],
   "source": [
    "df.describe()"
   ]
  },
  {
   "cell_type": "code",
   "execution_count": 170,
   "id": "69d60e47",
   "metadata": {},
   "outputs": [
    {
     "data": {
      "image/png": "[encoded data removed]",
      "text/plain": [
       "<Figure size 360x360 with 1 Axes>"
      ]
     },
     "metadata": {
      "needs_background": "light"
     },
     "output_type": "display_data"
    },
    {
     "data": {
      "image/png": "[encoded data removed]",
      "text/plain": [
       "<Figure size 360x360 with 1 Axes>"
      ]
     },
     "metadata": {
      "needs_background": "light"
     },
     "output_type": "display_data"
    },
    {
     "data": {
      "image/png": "[encoded data removed]",
      "text/plain": [
       "<Figure size 360x360 with 1 Axes>"
      ]
     },
     "metadata": {
      "needs_background": "light"
     },
     "output_type": "display_data"
    },
    {
     "data": {
      "image/png": "[encoded data removed]",
      "text/plain": [
       "<Figure size 360x360 with 1 Axes>"
      ]
     },
     "metadata": {
      "needs_background": "light"
     },
     "output_type": "display_data"
    }
   ],
   "source": [
    "for k in [ 'img',  'text', 'nrwords', 'nrchars']:\n",
    "    sns.displot(df[k]+1, log_scale=(True,False)   );"
   ]
  },
  {
   "cell_type": "code",
   "execution_count": 161,
   "id": "223ca95d",
   "metadata": {},
   "outputs": [
    {
     "name": "stderr",
     "output_type": "stream",
     "text": [
      "/Users/admin/anaconda/envs/python3.6/lib/python3.6/site-packages/ipykernel_launcher.py:1: UserWarning: Boolean Series key will be reindexed to match DataFrame index.\n",
      "  \"\"\"Entry point for launching an IPython kernel.\n"
     ]
    },
    {
     "data": {
      "text/html": [
       "<div>\n",
       "<style scoped>\n",
       "    .dataframe tbody tr th:only-of-type {\n",
       "        vertical-align: middle;\n",
       "    }\n",
       "\n",
       "    .dataframe tbody tr th {\n",
       "        vertical-align: top;\n",
       "    }\n",
       "\n",
       "    .dataframe thead th {\n",
       "        text-align: right;\n",
       "    }\n",
       "</style>\n",
       "<table border=\"1\" class=\"dataframe\">\n",
       "  <thead>\n",
       "    <tr style=\"text-align: right;\">\n",
       "      <th></th>\n",
       "      <th>text</th>\n",
       "      <th>img</th>\n",
       "      <th>nrwords</th>\n",
       "      <th>nrchars</th>\n",
       "    </tr>\n",
       "  </thead>\n",
       "  <tbody>\n",
       "    <tr>\n",
       "      <th>count</th>\n",
       "      <td>253.000000</td>\n",
       "      <td>253.0</td>\n",
       "      <td>253.0</td>\n",
       "      <td>253.0</td>\n",
       "    </tr>\n",
       "    <tr>\n",
       "      <th>mean</th>\n",
       "      <td>0.407115</td>\n",
       "      <td>0.0</td>\n",
       "      <td>0.0</td>\n",
       "      <td>0.0</td>\n",
       "    </tr>\n",
       "    <tr>\n",
       "      <th>std</th>\n",
       "      <td>2.086490</td>\n",
       "      <td>0.0</td>\n",
       "      <td>0.0</td>\n",
       "      <td>0.0</td>\n",
       "    </tr>\n",
       "    <tr>\n",
       "      <th>min</th>\n",
       "      <td>0.000000</td>\n",
       "      <td>0.0</td>\n",
       "      <td>0.0</td>\n",
       "      <td>0.0</td>\n",
       "    </tr>\n",
       "    <tr>\n",
       "      <th>25%</th>\n",
       "      <td>0.000000</td>\n",
       "      <td>0.0</td>\n",
       "      <td>0.0</td>\n",
       "      <td>0.0</td>\n",
       "    </tr>\n",
       "    <tr>\n",
       "      <th>50%</th>\n",
       "      <td>0.000000</td>\n",
       "      <td>0.0</td>\n",
       "      <td>0.0</td>\n",
       "      <td>0.0</td>\n",
       "    </tr>\n",
       "    <tr>\n",
       "      <th>75%</th>\n",
       "      <td>0.000000</td>\n",
       "      <td>0.0</td>\n",
       "      <td>0.0</td>\n",
       "      <td>0.0</td>\n",
       "    </tr>\n",
       "    <tr>\n",
       "      <th>max</th>\n",
       "      <td>20.000000</td>\n",
       "      <td>0.0</td>\n",
       "      <td>0.0</td>\n",
       "      <td>0.0</td>\n",
       "    </tr>\n",
       "  </tbody>\n",
       "</table>\n",
       "</div>"
      ],
      "text/plain": [
       "             text    img  nrwords  nrchars\n",
       "count  253.000000  253.0    253.0    253.0\n",
       "mean     0.407115    0.0      0.0      0.0\n",
       "std      2.086490    0.0      0.0      0.0\n",
       "min      0.000000    0.0      0.0      0.0\n",
       "25%      0.000000    0.0      0.0      0.0\n",
       "50%      0.000000    0.0      0.0      0.0\n",
       "75%      0.000000    0.0      0.0      0.0\n",
       "max     20.000000    0.0      0.0      0.0"
      ]
     },
     "execution_count": 161,
     "metadata": {},
     "output_type": "execute_result"
    }
   ],
   "source": [
    "df[df.nrchars==0][df.img==0].describe()"
   ]
  },
  {
   "cell_type": "markdown",
   "id": "ff5bbf45",
   "metadata": {},
   "source": [
    "# Documenten zonder woorden\n",
    "\n",
    "* bevatten meestal maar 1 image, namelijk van de hele pagina.\n",
    "* Ik heb er 1 geprobeerd met tessaract en die haalde alles er keurig uit."
   ]
  },
  {
   "cell_type": "code",
   "execution_count": 149,
   "id": "3c06e4f2",
   "metadata": {},
   "outputs": [
    {
     "data": {
      "text/plain": [
       "count    8519.000000\n",
       "mean        4.159174\n",
       "std         7.792464\n",
       "min         0.000000\n",
       "25%         1.000000\n",
       "50%         1.000000\n",
       "75%         1.000000\n",
       "max       107.000000\n",
       "Name: img, dtype: float64"
      ]
     },
     "execution_count": 149,
     "metadata": {},
     "output_type": "execute_result"
    }
   ],
   "source": [
    "df2[df2.nrchars==0].img.describe()"
   ]
  },
  {
   "cell_type": "code",
   "execution_count": 155,
   "id": "07b8945e",
   "metadata": {},
   "outputs": [
    {
     "name": "stderr",
     "output_type": "stream",
     "text": [
      "/Users/admin/anaconda/envs/python3.6/lib/python3.6/site-packages/ipykernel_launcher.py:1: UserWarning: Boolean Series key will be reindexed to match DataFrame index.\n",
      "  \"\"\"Entry point for launching an IPython kernel.\n"
     ]
    },
    {
     "data": {
      "text/plain": [
       "50"
      ]
     },
     "execution_count": 155,
     "metadata": {},
     "output_type": "execute_result"
    }
   ],
   "source": [
    "# 50 files zonder 1 woord, zelfs geen karakter\n",
    "\n",
    "len(df2[df2.groupby('file')['nrchars'].sum()==0].index.unique())"
   ]
  },
  {
   "cell_type": "code",
   "execution_count": 157,
   "id": "b8b74708",
   "metadata": {},
   "outputs": [
    {
     "name": "stderr",
     "output_type": "stream",
     "text": [
      "/Users/admin/anaconda/envs/python3.6/lib/python3.6/site-packages/ipykernel_launcher.py:1: UserWarning: Boolean Series key will be reindexed to match DataFrame index.\n",
      "  \"\"\"Entry point for launching an IPython kernel.\n"
     ]
    },
    {
     "data": {
      "text/html": [
       "<div>\n",
       "<style scoped>\n",
       "    .dataframe tbody tr th:only-of-type {\n",
       "        vertical-align: middle;\n",
       "    }\n",
       "\n",
       "    .dataframe tbody tr th {\n",
       "        vertical-align: top;\n",
       "    }\n",
       "\n",
       "    .dataframe thead th {\n",
       "        text-align: right;\n",
       "    }\n",
       "</style>\n",
       "<table border=\"1\" class=\"dataframe\">\n",
       "  <thead>\n",
       "    <tr style=\"text-align: right;\">\n",
       "      <th></th>\n",
       "      <th>page</th>\n",
       "      <th>text</th>\n",
       "      <th>img</th>\n",
       "      <th>nrwords</th>\n",
       "      <th>nrchars</th>\n",
       "    </tr>\n",
       "    <tr>\n",
       "      <th>file</th>\n",
       "      <th></th>\n",
       "      <th></th>\n",
       "      <th></th>\n",
       "      <th></th>\n",
       "      <th></th>\n",
       "    </tr>\n",
       "  </thead>\n",
       "  <tbody>\n",
       "    <tr>\n",
       "      <th>0335b3f498dbbd7c537ad23abe8c08dc_2-inventarislijst-wob-verzoek-11-08-2021-inzake-het-europees-herstelfonds.xml</th>\n",
       "      <td>1</td>\n",
       "      <td>0</td>\n",
       "      <td>1</td>\n",
       "      <td>0</td>\n",
       "      <td>0</td>\n",
       "    </tr>\n",
       "    <tr>\n",
       "      <th>0335b3f498dbbd7c537ad23abe8c08dc_2-inventarislijst-wob-verzoek-11-08-2021-inzake-het-europees-herstelfonds.xml</th>\n",
       "      <td>2</td>\n",
       "      <td>0</td>\n",
       "      <td>1</td>\n",
       "      <td>0</td>\n",
       "      <td>0</td>\n",
       "    </tr>\n",
       "    <tr>\n",
       "      <th>0335b3f498dbbd7c537ad23abe8c08dc_2-inventarislijst-wob-verzoek-11-08-2021-inzake-het-europees-herstelfonds.xml</th>\n",
       "      <td>3</td>\n",
       "      <td>0</td>\n",
       "      <td>1</td>\n",
       "      <td>0</td>\n",
       "      <td>0</td>\n",
       "    </tr>\n",
       "    <tr>\n",
       "      <th>0335b3f498dbbd7c537ad23abe8c08dc_2-inventarislijst-wob-verzoek-11-08-2021-inzake-het-europees-herstelfonds.xml</th>\n",
       "      <td>4</td>\n",
       "      <td>0</td>\n",
       "      <td>1</td>\n",
       "      <td>0</td>\n",
       "      <td>0</td>\n",
       "    </tr>\n",
       "    <tr>\n",
       "      <th>0335b3f498dbbd7c537ad23abe8c08dc_2-inventarislijst-wob-verzoek-11-08-2021-inzake-het-europees-herstelfonds.xml</th>\n",
       "      <td>5</td>\n",
       "      <td>0</td>\n",
       "      <td>1</td>\n",
       "      <td>0</td>\n",
       "      <td>0</td>\n",
       "    </tr>\n",
       "    <tr>\n",
       "      <th>...</th>\n",
       "      <td>...</td>\n",
       "      <td>...</td>\n",
       "      <td>...</td>\n",
       "      <td>...</td>\n",
       "      <td>...</td>\n",
       "    </tr>\n",
       "    <tr>\n",
       "      <th>fa1882d312db1389abfca529f31c3408_wob-documenten.xml</th>\n",
       "      <td>94</td>\n",
       "      <td>0</td>\n",
       "      <td>1</td>\n",
       "      <td>0</td>\n",
       "      <td>0</td>\n",
       "    </tr>\n",
       "    <tr>\n",
       "      <th>fa1882d312db1389abfca529f31c3408_wob-documenten.xml</th>\n",
       "      <td>95</td>\n",
       "      <td>0</td>\n",
       "      <td>1</td>\n",
       "      <td>0</td>\n",
       "      <td>0</td>\n",
       "    </tr>\n",
       "    <tr>\n",
       "      <th>fa1882d312db1389abfca529f31c3408_wob-documenten.xml</th>\n",
       "      <td>96</td>\n",
       "      <td>0</td>\n",
       "      <td>1</td>\n",
       "      <td>0</td>\n",
       "      <td>0</td>\n",
       "    </tr>\n",
       "    <tr>\n",
       "      <th>fa1882d312db1389abfca529f31c3408_wob-documenten.xml</th>\n",
       "      <td>97</td>\n",
       "      <td>0</td>\n",
       "      <td>1</td>\n",
       "      <td>0</td>\n",
       "      <td>0</td>\n",
       "    </tr>\n",
       "    <tr>\n",
       "      <th>fa1882d312db1389abfca529f31c3408_wob-documenten.xml</th>\n",
       "      <td>98</td>\n",
       "      <td>0</td>\n",
       "      <td>1</td>\n",
       "      <td>0</td>\n",
       "      <td>0</td>\n",
       "    </tr>\n",
       "  </tbody>\n",
       "</table>\n",
       "<p>1689 rows × 5 columns</p>\n",
       "</div>"
      ],
      "text/plain": [
       "                                                    page  text  img  nrwords  \\\n",
       "file                                                                           \n",
       "0335b3f498dbbd7c537ad23abe8c08dc_2-inventarisli...     1     0    1        0   \n",
       "0335b3f498dbbd7c537ad23abe8c08dc_2-inventarisli...     2     0    1        0   \n",
       "0335b3f498dbbd7c537ad23abe8c08dc_2-inventarisli...     3     0    1        0   \n",
       "0335b3f498dbbd7c537ad23abe8c08dc_2-inventarisli...     4     0    1        0   \n",
       "0335b3f498dbbd7c537ad23abe8c08dc_2-inventarisli...     5     0    1        0   \n",
       "...                                                  ...   ...  ...      ...   \n",
       "fa1882d312db1389abfca529f31c3408_wob-documenten...    94     0    1        0   \n",
       "fa1882d312db1389abfca529f31c3408_wob-documenten...    95     0    1        0   \n",
       "fa1882d312db1389abfca529f31c3408_wob-documenten...    96     0    1        0   \n",
       "fa1882d312db1389abfca529f31c3408_wob-documenten...    97     0    1        0   \n",
       "fa1882d312db1389abfca529f31c3408_wob-documenten...    98     0    1        0   \n",
       "\n",
       "                                                    nrchars  \n",
       "file                                                         \n",
       "0335b3f498dbbd7c537ad23abe8c08dc_2-inventarisli...        0  \n",
       "0335b3f498dbbd7c537ad23abe8c08dc_2-inventarisli...        0  \n",
       "0335b3f498dbbd7c537ad23abe8c08dc_2-inventarisli...        0  \n",
       "0335b3f498dbbd7c537ad23abe8c08dc_2-inventarisli...        0  \n",
       "0335b3f498dbbd7c537ad23abe8c08dc_2-inventarisli...        0  \n",
       "...                                                     ...  \n",
       "fa1882d312db1389abfca529f31c3408_wob-documenten...        0  \n",
       "fa1882d312db1389abfca529f31c3408_wob-documenten...        0  \n",
       "fa1882d312db1389abfca529f31c3408_wob-documenten...        0  \n",
       "fa1882d312db1389abfca529f31c3408_wob-documenten...        0  \n",
       "fa1882d312db1389abfca529f31c3408_wob-documenten...        0  \n",
       "\n",
       "[1689 rows x 5 columns]"
      ]
     },
     "execution_count": 157,
     "metadata": {},
     "output_type": "execute_result"
    }
   ],
   "source": [
    "# 1689 paginas\n",
    "\n",
    "df2[df2.groupby('file')['nrchars'].sum()==0]"
   ]
  },
  {
   "cell_type": "code",
   "execution_count": null,
   "id": "945444e9",
   "metadata": {},
   "outputs": [],
   "source": []
  }
 ],
 "metadata": {
  "kernelspec": {
   "display_name": "Python 3",
   "language": "python",
   "name": "python3"
  },
  "language_info": {
   "codemirror_mode": {
    "name": "ipython",
    "version": 3
   },
   "file_extension": ".py",
   "mimetype": "text/x-python",
   "name": "python",
   "nbconvert_exporter": "python",
   "pygments_lexer": "ipython3",
   "version": "3.6.3"
  },
  "toc": {
   "nav_menu": {},
   "number_sections": false,
   "sideBar": true,
   "skip_h1_title": false,
   "title_cell": "Table of Contents",
   "title_sidebar": "Contents",
   "toc_cell": false,
   "toc_position": {},
   "toc_section_display": true,
   "toc_window_display": false
  }
 },
 "nbformat": 4,
 "nbformat_minor": 5
}
