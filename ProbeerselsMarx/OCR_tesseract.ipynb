{
 "cells": [
  {
   "cell_type": "code",
   "execution_count": 1,
   "id": "05235bba",
   "metadata": {},
   "outputs": [],
   "source": [
    "img='../CovidWOBPDFs/5d03dc8b8621ea5e53ad6fe7b44c8533_wob-verzoek-inz-coronamaatregelen-op-scholen-17-30_1.png'"
   ]
  },
  {
   "cell_type": "code",
   "execution_count": 7,
   "id": "a0c5d82a",
   "metadata": {},
   "outputs": [
    {
     "name": "stdout",
     "output_type": "stream",
     "text": [
      "\u001b[33mWARNING: Ignoring invalid distribution -ython (/Users/admin/anaconda/envs/python3.6/lib/python3.6/site-packages)\u001b[0m\n",
      "\u001b[33mWARNING: Ignoring invalid distribution -ython (/Users/admin/anaconda/envs/python3.6/lib/python3.6/site-packages)\u001b[0m\n",
      "Collecting pytesseract\n",
      "  Downloading pytesseract-0.3.8.tar.gz (14 kB)\n",
      "Requirement already satisfied: Pillow in /Users/admin/anaconda/envs/python3.6/lib/python3.6/site-packages (from pytesseract) (8.0.1)\n",
      "Building wheels for collected packages: pytesseract\n",
      "  Building wheel for pytesseract (setup.py) ... \u001b[?25ldone\n",
      "\u001b[?25h  Created wheel for pytesseract: filename=pytesseract-0.3.8-py2.py3-none-any.whl size=18843 sha256=b9760e99cdbfaba07258d654460f0334f6bad40a1ad62a5f14dd6ed489b32f66\n",
      "  Stored in directory: /Users/admin/Library/Caches/pip/wheels/c6/3a/30/877d14dc50fb68f107b18247a31db742518c6f74f64de8dde8\n",
      "Successfully built pytesseract\n",
      "\u001b[33mWARNING: Ignoring invalid distribution -ython (/Users/admin/anaconda/envs/python3.6/lib/python3.6/site-packages)\u001b[0m\n",
      "Installing collected packages: pytesseract\n",
      "\u001b[33mWARNING: Ignoring invalid distribution -ython (/Users/admin/anaconda/envs/python3.6/lib/python3.6/site-packages)\u001b[0m\n",
      "Successfully installed pytesseract-0.3.8\n",
      "\u001b[33mWARNING: Ignoring invalid distribution -ython (/Users/admin/anaconda/envs/python3.6/lib/python3.6/site-packages)\u001b[0m\n",
      "\u001b[33mWARNING: Ignoring invalid distribution -ython (/Users/admin/anaconda/envs/python3.6/lib/python3.6/site-packages)\u001b[0m\n",
      "\u001b[33mWARNING: Ignoring invalid distribution -ython (/Users/admin/anaconda/envs/python3.6/lib/python3.6/site-packages)\u001b[0m\n",
      "\u001b[33mWARNING: You are using pip version 21.2.4; however, version 21.3.1 is available.\n",
      "You should consider upgrading via the '/Users/admin/anaconda/envs/python3.6/bin/python -m pip install --upgrade pip' command.\u001b[0m\n"
     ]
    }
   ],
   "source": [
    "#!pip install opencv-python\n",
    "#!pip install pytesseract"
   ]
  },
  {
   "cell_type": "code",
   "execution_count": 16,
   "id": "568a2e13",
   "metadata": {},
   "outputs": [],
   "source": [
    "import cv2 \n",
    "import pytesseract\n",
    "import re"
   ]
  },
  {
   "cell_type": "code",
   "execution_count": null,
   "id": "cfd27e96",
   "metadata": {},
   "outputs": [],
   "source": [
    "img = cv2.imread(img)"
   ]
  },
  {
   "cell_type": "code",
   "execution_count": 13,
   "id": "43b5a8c0",
   "metadata": {},
   "outputs": [
    {
     "name": "stdout",
     "output_type": "stream",
     "text": [
      "173\n",
      "Van: Yes EG ca |\n",
      "Verzonden: maandag 25 januari 2021 17:48\n",
      "Aan: eaten ee cer ea\n",
      "cc: ee ee ae eae\n",
      "Onderwerp: RE: Overzicht buurlanden + Scandinavische landen (wanneer mogelijk)\n",
      "Bijlagen: Overzicht maatregelen buurlanden.docx\n",
      "Hall Qa,\n",
      "Bij deze het gevraagde overzicht, met input vanuit IB/buurlandenteam.\n",
      "Voor nu alvast een hele fijne avond gewenst!\n",
      "Groet,\n",
      "=\n",
      "Van: (San |\n",
      "Verzonden: woensdag 20 januari 2021 10:14\n",
      "Aan: a ea\n",
      "CC ia eee\n",
      "Onderwerp: Overzicht buurlanden + Scandinavische landen (wanneer mogelijk)\n",
      "Ha a Cn\n",
      "Ik heb vanochtend even met het kernteam Covid gesproken over het internationale overzicht voor\n",
      "volgende week en we komen tot de volgende onderwerpen die op dit moment relevant zijn:\n",
      "- PO/VO Scholen open/dicht & voorwaarden heropening etc. (volgens mij volstaat hier een kleine\n",
      "update van het vorige overzicht)\n",
      "- Gebruik van Persoonlijke beschermingsmiddelen in het onderwijs (n.a.v. discussie die loopt in\n",
      "Duitsland)\n",
      "- Of er al duidelijkheid is over eindexamens; deze discussie speelt hier nog niet, maar als sluiting\n",
      "VO nog een of twee keer onverhoopt verlengd wordt zal dat hier ook interessant worden\n",
      "- Is er door langere sluiting additionele financiéle steun voor de cultuursector?\n",
      "Het overzicht zoals het er vorige keer lag in een lijstje bullets was weer zeer behulpzaam, en ook\n",
      "andere directies (bijv. COM hoorde ik vanochtend nog) maken er actief gebruik van. De bovenstaande\n",
      "punten kunnen waar nodig/handig uiteraard ook samengevoegd worden.\n",
      "Als het lukt zou het zeer behulpzaam zijn als het overzicht geagendeerd kan worden voor de dagstart\n",
      "van aanstaande dinsdag, dan zitten we aan de voorkant van de besluitvorming. Als dat onhaalbaar is,\n",
      "dan agenderen we het volgende week vrijdag. Dan staat het pakket vermoedelijk al deels in de\n",
      "steigers, maar is het overzicht nog steeds van veel toegevoegde waarde. Ik en gy ontvangen\n",
      "graag het stuk rond een uur of 5 de dag voor de dagstart, dit geeft een paar uurtjes extra t.o.v.\n",
      "aanleveren rond het middaguur ©.\n",
      "Gr.\n",
      "ieee\n",
      "Projectteam OCW COVID-19 .\n",
      "Ministerie van Onderwijs, Cultuur en Wetenschap\n",
      "Directie Bestuursondersteuning en Advies\n",
      "Rijnstraat 50 | 2515 XP Den Haag\n",
      "Postbus 16375 | 2500 BJ Den Haag\n",
      "@ EE ©minocw.nl\n",
      "W www.minocw.nl\n",
      "1\n",
      "\f",
      "\n"
     ]
    }
   ],
   "source": [
    "# Adding custom options\n",
    "#custom_config = r'--oem 3 --psm 6'\n",
    "t=pytesseract.image_to_string(img, config=custom_config)\n",
    "print(t)"
   ]
  },
  {
   "cell_type": "markdown",
   "id": "dbaff8b5",
   "metadata": {},
   "source": [
    "# Voorbeeld 2\n",
    "\n",
    "\n",
    "### png\n",
    "![](../CovidWOBPDFs/8b8890d6058f24465456cc410f4262ae_documenten-2_2.png)\n",
    "\n",
    "### text in de xml output van pdftohtml\n",
    "\n",
    "<pre>\n",
    "font=\"3\">Qpbrenast</text>\n",
    "<text top=\"147\" left=\"135\" width=\"4\" height=\"5\" font=\"9\">•</text>\n",
    "<text top=\"145\" left=\"160\" width=\"39\" height=\"10\" font=\"3\">Afzien</text>\n",
    "<text top=\"147\" left=\"205\" width=\"21\" height=\"7\" font=\"2\">van</text>\n",
    "<text top=\"145\" left=\"233\" width=\"48\" height=\"10\" font=\"3\">verdere</text>\n",
    "<text top=\"146\" left=\"287\" width=\"58\" height=\"13\" font=\"8\">verlaging</text>\n",
    "<text top=\"147\" left=\"351\" width=\"22\" height=\"7\" font=\"2\">van</text>\n",
    "<text top=\"145\" left=\"380\" width=\"33\" height=\"10\" font=\"3\">beide</text>\n",
    "<text top=\"146\" left=\"419\" width=\"22\" height=\"13\" font=\"8\">vpb</text>\n",
    "<text top=\"146\" left=\"448\" width=\"114\" height=\"12\" font=\"4\">tarieven per 2021</text>\n",
    "<text top=\"145\" left=\"568\" width=\"36\" height=\"10\" font=\"3\">levert</text>\n",
    "<text top=\"165\" left=\"161\" width=\"86\" height=\"10\" font=\"4\">ongeveer 2 8</text>\n",
    "<text top=\"162\" left=\"253\" width=\"25\" height=\"10\" font=\"3\">mid</text>\n",
    "<text top=\"165\" left=\"284\" width=\"32\" height=\"7\" font=\"1\">euro</text>\n",
    "<text top=\"165\" left=\"322\" width=\"14\" height=\"10\" font=\"4\">op</text>\n",
    "<text top=\"165\" left=\"342\" width=\"28\" height=\"7\" font=\"1\">voor</text>\n",
    "<text top=\"162\" left=\"376\" width=\"213\" height=\"10\" font=\"3\">het inkomstenkader Enkel afzien</text>\n",
    "<text top=\"165\" left=\"596\" width=\"21\" height=\"7\" font=\"1\">van</text>\n",
    "<text top=\"180\" left=\"161\" width=\"49\" height=\"10\" font=\"3\">verdere</text>\n",
    "<text top=\"180\" left=\"215\" width=\"58\" height=\"13\" font=\"8\">verlaging</text>\n",
    "<text top=\"182\" left=\"279\" width=\"22\" height=\"7\" font=\"1\">van</text>\n",
    "<text top=\"180\" left=\"308\" width=\"19\" height=\"10\" font=\"3\">het</text>\n",
    "<text top=\"180\" left=\"333\" width=\"58\" height=\"13\" font=\"8\">hoge vpb</text>\n",
    "<text top=\"180\" left=\"398\" width=\"75\" height=\"10\" font=\"3\">tarief levert</text>\n",
    "<text top=\"183\" left=\"478\" width=\"86\" height=\"10\" font=\"4\">ongeveer 2 4</text>\n",
    "<text top=\"180\" left=\"571\" width=\"25\" height=\"10\" font=\"3\">mid</text>\n",
    "<text top=\"182\" left=\"601\" width=\"32\" height=\"7\" font=\"1\">euro</text>\n",
    "<text top=\"183\" left=\"639\" width=\"14\" height=\"10\" font=\"4\">op</text>\n",
    "<text top=\"198\" left=\"162\" width=\"44\" height=\"12\" font=\"8\">Ditzijn</text>\n",
    "<text top=\"197\" left=\"212\" width=\"67\" height=\"10\" font=\"3\">indicatieve</text>\n",
    "<text top=\"198\" left=\"285\" width=\"73\" height=\"13\" font=\"8\">schattingen</text>\n",
    "<text top=\"197\" left=\"370\" width=\"30\" height=\"10\" font=\"4\">Deze</text>\n",
    "<text top=\"198\" left=\"406\" width=\"58\" height=\"13\" font=\"8\">bedragen</text>\n",
    "<text top=\"197\" left=\"471\" width=\"46\" height=\"10\" font=\"3\">worden</text>\n",
    "<text top=\"198\" left=\"523\" width=\"84\" height=\"13\" font=\"8\">herijkt injuni</text>\n",
    "<text top=\"200\" left=\"614\" width=\"14\" height=\"10\" font=\"4\">op</text>\n",
    "<text top=\"197\" left=\"635\" width=\"31\" height=\"10\" font=\"3\">basis</text>\n",
    "<text top=\"216\" left=\"161\" width=\"22\" height=\"7\" font=\"2\">van</text>\n",
    "<text top=\"214\" left=\"189\" width=\"55\" height=\"10\" font=\"3\">de kMEV</text>\n",
    "<text top=\"215\" left=\"251\" width=\"43\" height=\"12\" font=\"8\">raming</text>\n",
    "<text top=\"216\" left=\"301\" width=\"22\" height=\"7\" font=\"2\">van</text>\n",
    "<text top=\"214\" left=\"329\" width=\"19\" height=\"10\" font=\"3\">het</text>\n",
    "<text top=\"214\" left=\"354\" width=\"24\" height=\"9\" font=\"4\">CPB</text>\n",
    "</pre>"
   ]
  },
  {
   "cell_type": "code",
   "execution_count": 4,
   "id": "6e234f4c",
   "metadata": {},
   "outputs": [
    {
     "name": "stdout",
     "output_type": "stream",
     "text": [
      "2. Opbrengst\n",
      "e Afzien van verdere verlaging van beide vpb-tarieven per 2021 levert\n",
      "\n",
      "ongeveer 2,8 mld euro op voor het inkomstenkader. Enkel afzien van\n",
      "verdere verlaging van het hoge vpb-tarief levert ongeveer 2,4 mld euro op.\n",
      "Dit zijn indicatieve schattingen. Deze bedragen worden herijkt in juni op basis\n",
      "\n",
      "me gl oe\n",
      "\f",
      "\n"
     ]
    }
   ],
   "source": [
    "img='../CovidWOBPDFs/8b8890d6058f24465456cc410f4262ae_documenten-2_2.png'\n",
    "img = cv2.imread(img)\n",
    "t=pytesseract.image_to_string(img)\n",
    "print(t)"
   ]
  },
  {
   "cell_type": "markdown",
   "id": "ff1a445e",
   "metadata": {},
   "source": [
    "### Conclusie\n",
    "\n",
    "1. Het is mij onduidelijk waarom dit image in de output van pdftohtml is gezet.\n",
    "    * je ziet wel aan de xml output dat dit een lastige tekst was\n",
    "        * vrijwel elk woord apart in een text veld\n",
    "        * heel vaak font changes, terwijl die er in het echt helemaal niet zijn.\n",
    "2. De tekst in de XML is vrijwel identiek aan die in de OCR output van het plaatje.\n",
    "    * we zien hier **alleen 2 tokenizatie** foutjes verbeterd door de OCR**\n",
    "    * `Ditzijn` en `injuni`\n",
    "\n",
    "#### Opties, wat te doen met de plaatjes output?\n",
    "\n",
    "1. Plaatjes niet laten maken. plaatjes gewoon negeren.\n",
    "2. Plaatjes OCRen, en de tekst uit de OCR **toevoegen** aan de pagina waar we het plaatje vinden.\n",
    "    * verhoogd recall ietsje\n",
    "    * kan de TF-IDF wat in de war brengen\n",
    "        * we zouden alleen **nieuwe woorden** kunnen toevoegen."
   ]
  },
  {
   "cell_type": "markdown",
   "id": "32c8af7a",
   "metadata": {},
   "source": [
    "# voorbeeld 3\n",
    "\n",
    "Er zit helemaal geen 1 woord in de pdftohtml.\n",
    "\n",
    "Kijk eens hoe prachtig die OCR dat eruit haalt!!!!\n",
    "\n",
    "![](../CovidWOBPDFs/fa1882d312db1389abfca529f31c3408_wob-documenten-1_1.jpg)"
   ]
  },
  {
   "cell_type": "code",
   "execution_count": 4,
   "id": "b1ad8ed4",
   "metadata": {},
   "outputs": [
    {
     "name": "stdout",
     "output_type": "stream",
     "text": [
      "Fo BD/DWJZ/JZW\n",
      "\n",
      " \n",
      "\n",
      "   \n",
      " \n",
      "   \n",
      " \n",
      "\n",
      "Van: - BD/DBO\n",
      "Verzonden: dinsdag 17 maart 2020 14:41\n",
      "Aan: - BD/DWIZ/JZW: . - BD/PLR;\n",
      "- BD/PACT; - BD/DWIZJZW\n",
      "cc: - BD/DWIZAZW\n",
      "Onderwerp: RE: QA tbv covid-19 debat 18/3\n",
      "\n",
      "Verzonden met BlackBerry Work\n",
      "(www.blackberry.com)\n",
      "\n",
      " \n",
      "\n",
      " \n",
      "\n",
      "     \n",
      "   \n",
      "\n",
      "Van: _- BD/DWIZ/1Z W AREY @minjenv nl>\n",
      "Datum: dinsdag 17 mrt. 2020 2:02 PM\n",
      "\n",
      "nctv.minjenv.nl>, fs BD/DWIZ/ZW @minjenyv.nl>\n",
      "Kopie: - BD/DWIZ/IZW\n",
      "\n",
      "Onderwerp: RE: QA tbv covid-19 debat 18/3\n",
      "\n",
      " \n",
      " \n",
      "    \n",
      "\n",
      "Beste B\n",
      "\n",
      "Gelet op de krappe deadline stuur ik de Q&A ook naar andere direct betrokkenen. De Q&A is niet met hen\n",
      "afgestemd.\n",
      "\n",
      ", mochten jullie de Q&A anders willen zien, laat dat dan weten. We hebben dus nog een uur\n",
      "om aan te passen.\n",
      "\n",
      "Q\n",
      "\n",
      "Kan de Minister voor de Erediensten aangeven op welke wijze hij gestalte heeft gegeven of gaat geven aan de\n",
      "toezegging om zoveel mogelijk met kerkgenootschapen in gesprek te gaan over de impact van de vergaande\n",
      "maatregelen van het kabinet op kerkdiensten?\n",
      "\n",
      "A\n",
      "\n",
      "Morgen is de conference call met de Minister. Ik ga nu aan de slag met de voorbereiding daarvan.\n",
      "\n",
      " \n",
      "\n",
      "Raadadviseur\n",
      "\n",
      "Sector Juridische Zaken en Wetgevingsbeleid\n",
      "Directie Wetgeving en Juridische Zaken,\n",
      "Ministerie van Justitie en Veiligheid\n",
      "\n",
      "Postbus 20301\n",
      "\n",
      "2500 EH DEN HAAG\n",
      "\n",
      "Tel.\n",
      "\n",
      "06\n",
      "emai @minjenv.nl\n",
      "\n",
      " \n",
      "\f",
      "\n"
     ]
    }
   ],
   "source": [
    "img='../CovidWOBPDFs/fa1882d312db1389abfca529f31c3408_wob-documenten-1_1.jpg'\n",
    "# en nu de hele pdf: o dat mag weer niet\n",
    "#img='../CovidWOBPDFs/fa1882d312db1389abfca529f31c3408_wob-documenten.pdf'\n",
    "img = cv2.imread(img)\n",
    "t=pytesseract.image_to_string(img)\n",
    "print(t)"
   ]
  },
  {
   "cell_type": "code",
   "execution_count": 24,
   "id": "b43b2dc0",
   "metadata": {},
   "outputs": [
    {
     "data": {
      "text/plain": [
       "52697"
      ]
     },
     "execution_count": 24,
     "metadata": {},
     "output_type": "execute_result"
    }
   ],
   "source": [
    "imgs= !ls ../CovidWOBPDFs\n",
    "imgs=[l for l in imgs if l.endswith('.png')]\n",
    "len(imgs)"
   ]
  },
  {
   "cell_type": "code",
   "execution_count": 23,
   "id": "7cc9ec9a",
   "metadata": {},
   "outputs": [
    {
     "name": "stdout",
     "output_type": "stream",
     "text": [
      "CPU times: user 1.93 s, sys: 5.75 s, total: 7.67 s\n",
      "Wall time: 12min 52s\n"
     ]
    }
   ],
   "source": [
    "%%time\n",
    "## ocr 1000 page\n",
    "OCR_dict={file:pytesseract.image_to_string('../CovidWOBPDFs/'+file, config=custom_config) for file in imgs}"
   ]
  },
  {
   "cell_type": "code",
   "execution_count": 27,
   "id": "441d748c",
   "metadata": {},
   "outputs": [],
   "source": [
    "import pandas as pd\n",
    "\n",
    "df= pd.Series(OCR_dict)\n",
    "df.to_csv('OCRsample1000bladzijden.csv')"
   ]
  },
  {
   "cell_type": "code",
   "execution_count": 28,
   "id": "adf726c5",
   "metadata": {},
   "outputs": [
    {
     "name": "stdout",
     "output_type": "stream",
     "text": [
      "total 2384\r\n",
      "-rw-r--r--  1 admin  staff   156K Nov 26 20:29 CollectPDFs.ipynb\r\n",
      "-rw-r--r--  1 admin  staff   302K Nov 28 15:20 FontVectorPerPaginaEnDanMaarClusteren.ipynb\r\n",
      "-rw-r--r--  1 admin  staff    78K Nov 28 20:38 OCR_tesseract.ipynb\r\n",
      "-rw-r--r--  1 admin  staff   425K Nov 28 20:50 OCRsample1000bladzijden.csv\r\n",
      "-rw-r--r--  1 admin  staff   219K Nov 28 13:56 test.xml\r\n"
     ]
    }
   ],
   "source": [
    "!ls -lh"
   ]
  },
  {
   "cell_type": "code",
   "execution_count": 33,
   "id": "66dab365",
   "metadata": {},
   "outputs": [
    {
     "data": {
      "text/plain": [
       "count    1000.000000\n",
       "mean      371.714000\n",
       "std       335.546431\n",
       "min         1.000000\n",
       "25%       182.500000\n",
       "50%       400.000000\n",
       "75%       539.000000\n",
       "max      3554.000000\n",
       "dtype: float64"
      ]
     },
     "execution_count": 33,
     "metadata": {},
     "output_type": "execute_result"
    }
   ],
   "source": [
    "# lengte van de strings per png image.\n",
    "# dat is dus heel erg kort\n",
    "\n",
    "df.str.len().describe()"
   ]
  },
  {
   "cell_type": "code",
   "execution_count": 35,
   "id": "972a9c5f",
   "metadata": {},
   "outputs": [
    {
     "data": {
      "image/png": "[encoded data removed]",
      "text/plain": [
       "<Figure size 360x360 with 1 Axes>"
      ]
     },
     "metadata": {
      "needs_background": "light"
     },
     "output_type": "display_data"
    }
   ],
   "source": [
    "%matplotlib inline\n",
    "import seaborn as sns\n",
    "\n",
    "sns.displot(df.str.len());"
   ]
  },
  {
   "cell_type": "markdown",
   "id": "8cfd41b7",
   "metadata": {},
   "source": [
    "# OCR alle images"
   ]
  },
  {
   "cell_type": "code",
   "execution_count": 40,
   "id": "1bb2bdf4",
   "metadata": {},
   "outputs": [
    {
     "data": {
      "text/plain": [
       "244253"
      ]
     },
     "execution_count": 40,
     "metadata": {},
     "output_type": "execute_result"
    }
   ],
   "source": [
    "ls= !ls  \n",
    "plaatjes=[f for f in ls if f.endswith('png') or f.endswith('jpg')]\n",
    "len(plaatjes)"
   ]
  },
  {
   "cell_type": "code",
   "execution_count": 33,
   "id": "8b5a55ca",
   "metadata": {},
   "outputs": [
    {
     "name": "stdout",
     "output_type": "stream",
     "text": [
      "/Users/admin/surfdrive/onderwijs/Afstudeerders/20212022/DaanKuypers/DocumentSplitting/CovidWOBPDFs\n"
     ]
    }
   ],
   "source": [
    "% cd ../CovidWOBPDFs/\n",
    "!mkdir ../OCRedImages"
   ]
  },
  {
   "cell_type": "code",
   "execution_count": null,
   "id": "5454d877",
   "metadata": {},
   "outputs": [],
   "source": [
    "%%time\n",
    "c=0\n",
    "for p in plaatjes:\n",
    "    c+=1\n",
    "    if c%10000==0:print(c)\n",
    "    img = cv2.imread(p)\n",
    "    t=pytesseract.image_to_string(img)\n",
    "    p_text=re.sub(r'(png$|jpg$)','txt',p)\n",
    "    with open('../OCRedImages/'+p_text,'w') as f:\n",
    "        f.writelines(t)\n",
    "    #print(p_text)    \n",
    "    #!head $p_text    "
   ]
  },
  {
   "cell_type": "code",
   "execution_count": null,
   "id": "2269d5a9",
   "metadata": {},
   "outputs": [],
   "source": []
  }
 ],
 "metadata": {
  "kernelspec": {
   "display_name": "Python 3",
   "language": "python",
   "name": "python3"
  },
  "language_info": {
   "codemirror_mode": {
    "name": "ipython",
    "version": 3
   },
   "file_extension": ".py",
   "mimetype": "text/x-python",
   "name": "python",
   "nbconvert_exporter": "python",
   "pygments_lexer": "ipython3",
   "version": "3.6.3"
  },
  "toc": {
   "nav_menu": {},
   "number_sections": false,
   "sideBar": true,
   "skip_h1_title": false,
   "title_cell": "Table of Contents",
   "title_sidebar": "Contents",
   "toc_cell": false,
   "toc_position": {},
   "toc_section_display": true,
   "toc_window_display": false
  }
 },
 "nbformat": 4,
 "nbformat_minor": 5
}
