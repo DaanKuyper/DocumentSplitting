{
 "cells": [
  {
   "cell_type": "code",
   "execution_count": 1,
   "id": "093d0270",
   "metadata": {},
   "outputs": [],
   "source": [
    "img='../CovidWOBPDFs/5d03dc8b8621ea5e53ad6fe7b44c8533_wob-verzoek-inz-coronamaatregelen-op-scholen-17-30_1.png'"
   ]
  },
  {
   "cell_type": "code",
   "execution_count": 7,
   "id": "e0f9d839",
   "metadata": {},
   "outputs": [
    {
     "name": "stdout",
     "output_type": "stream",
     "text": [
      "\u001b[33mWARNING: Ignoring invalid distribution -ython (/Users/admin/anaconda/envs/python3.6/lib/python3.6/site-packages)\u001b[0m\n",
      "\u001b[33mWARNING: Ignoring invalid distribution -ython (/Users/admin/anaconda/envs/python3.6/lib/python3.6/site-packages)\u001b[0m\n",
      "Collecting pytesseract\n",
      "  Downloading pytesseract-0.3.8.tar.gz (14 kB)\n",
      "Requirement already satisfied: Pillow in /Users/admin/anaconda/envs/python3.6/lib/python3.6/site-packages (from pytesseract) (8.0.1)\n",
      "Building wheels for collected packages: pytesseract\n",
      "  Building wheel for pytesseract (setup.py) ... \u001b[?25ldone\n",
      "\u001b[?25h  Created wheel for pytesseract: filename=pytesseract-0.3.8-py2.py3-none-any.whl size=18843 sha256=b9760e99cdbfaba07258d654460f0334f6bad40a1ad62a5f14dd6ed489b32f66\n",
      "  Stored in directory: /Users/admin/Library/Caches/pip/wheels/c6/3a/30/877d14dc50fb68f107b18247a31db742518c6f74f64de8dde8\n",
      "Successfully built pytesseract\n",
      "\u001b[33mWARNING: Ignoring invalid distribution -ython (/Users/admin/anaconda/envs/python3.6/lib/python3.6/site-packages)\u001b[0m\n",
      "Installing collected packages: pytesseract\n",
      "\u001b[33mWARNING: Ignoring invalid distribution -ython (/Users/admin/anaconda/envs/python3.6/lib/python3.6/site-packages)\u001b[0m\n",
      "Successfully installed pytesseract-0.3.8\n",
      "\u001b[33mWARNING: Ignoring invalid distribution -ython (/Users/admin/anaconda/envs/python3.6/lib/python3.6/site-packages)\u001b[0m\n",
      "\u001b[33mWARNING: Ignoring invalid distribution -ython (/Users/admin/anaconda/envs/python3.6/lib/python3.6/site-packages)\u001b[0m\n",
      "\u001b[33mWARNING: Ignoring invalid distribution -ython (/Users/admin/anaconda/envs/python3.6/lib/python3.6/site-packages)\u001b[0m\n",
      "\u001b[33mWARNING: You are using pip version 21.2.4; however, version 21.3.1 is available.\n",
      "You should consider upgrading via the '/Users/admin/anaconda/envs/python3.6/bin/python -m pip install --upgrade pip' command.\u001b[0m\n"
     ]
    }
   ],
   "source": [
    "#!pip install opencv-python\n",
    "#!pip install pytesseract"
   ]
  },
  {
   "cell_type": "code",
   "execution_count": 8,
   "id": "6d7b43a9",
   "metadata": {},
   "outputs": [],
   "source": [
    "import cv2 \n",
    "import pytesseract"
   ]
  },
  {
   "cell_type": "code",
   "execution_count": null,
   "id": "3cb068d1",
   "metadata": {},
   "outputs": [],
   "source": [
    "img = cv2.imread(img)"
   ]
  },
  {
   "cell_type": "code",
   "execution_count": 13,
   "id": "bc3bdfe6",
   "metadata": {},
   "outputs": [
    {
     "name": "stdout",
     "output_type": "stream",
     "text": [
      "173\n",
      "Van: Yes EG ca |\n",
      "Verzonden: maandag 25 januari 2021 17:48\n",
      "Aan: eaten ee cer ea\n",
      "cc: ee ee ae eae\n",
      "Onderwerp: RE: Overzicht buurlanden + Scandinavische landen (wanneer mogelijk)\n",
      "Bijlagen: Overzicht maatregelen buurlanden.docx\n",
      "Hall Qa,\n",
      "Bij deze het gevraagde overzicht, met input vanuit IB/buurlandenteam.\n",
      "Voor nu alvast een hele fijne avond gewenst!\n",
      "Groet,\n",
      "=\n",
      "Van: (San |\n",
      "Verzonden: woensdag 20 januari 2021 10:14\n",
      "Aan: a ea\n",
      "CC ia eee\n",
      "Onderwerp: Overzicht buurlanden + Scandinavische landen (wanneer mogelijk)\n",
      "Ha a Cn\n",
      "Ik heb vanochtend even met het kernteam Covid gesproken over het internationale overzicht voor\n",
      "volgende week en we komen tot de volgende onderwerpen die op dit moment relevant zijn:\n",
      "- PO/VO Scholen open/dicht & voorwaarden heropening etc. (volgens mij volstaat hier een kleine\n",
      "update van het vorige overzicht)\n",
      "- Gebruik van Persoonlijke beschermingsmiddelen in het onderwijs (n.a.v. discussie die loopt in\n",
      "Duitsland)\n",
      "- Of er al duidelijkheid is over eindexamens; deze discussie speelt hier nog niet, maar als sluiting\n",
      "VO nog een of twee keer onverhoopt verlengd wordt zal dat hier ook interessant worden\n",
      "- Is er door langere sluiting additionele financiéle steun voor de cultuursector?\n",
      "Het overzicht zoals het er vorige keer lag in een lijstje bullets was weer zeer behulpzaam, en ook\n",
      "andere directies (bijv. COM hoorde ik vanochtend nog) maken er actief gebruik van. De bovenstaande\n",
      "punten kunnen waar nodig/handig uiteraard ook samengevoegd worden.\n",
      "Als het lukt zou het zeer behulpzaam zijn als het overzicht geagendeerd kan worden voor de dagstart\n",
      "van aanstaande dinsdag, dan zitten we aan de voorkant van de besluitvorming. Als dat onhaalbaar is,\n",
      "dan agenderen we het volgende week vrijdag. Dan staat het pakket vermoedelijk al deels in de\n",
      "steigers, maar is het overzicht nog steeds van veel toegevoegde waarde. Ik en gy ontvangen\n",
      "graag het stuk rond een uur of 5 de dag voor de dagstart, dit geeft een paar uurtjes extra t.o.v.\n",
      "aanleveren rond het middaguur ©.\n",
      "Gr.\n",
      "ieee\n",
      "Projectteam OCW COVID-19 .\n",
      "Ministerie van Onderwijs, Cultuur en Wetenschap\n",
      "Directie Bestuursondersteuning en Advies\n",
      "Rijnstraat 50 | 2515 XP Den Haag\n",
      "Postbus 16375 | 2500 BJ Den Haag\n",
      "@ EE ©minocw.nl\n",
      "W www.minocw.nl\n",
      "1\n",
      "\f",
      "\n"
     ]
    }
   ],
   "source": [
    "# Adding custom options\n",
    "#custom_config = r'--oem 3 --psm 6'\n",
    "t=pytesseract.image_to_string(img, config=custom_config)\n",
    "print(t)"
   ]
  },
  {
   "cell_type": "code",
   "execution_count": 24,
   "id": "0f4a718b",
   "metadata": {},
   "outputs": [
    {
     "data": {
      "text/plain": [
       "52697"
      ]
     },
     "execution_count": 24,
     "metadata": {},
     "output_type": "execute_result"
    }
   ],
   "source": [
    "imgs= !ls ../CovidWOBPDFs\n",
    "imgs=[l for l in imgs if l.endswith('.png')]\n",
    "len(imgs)"
   ]
  },
  {
   "cell_type": "code",
   "execution_count": 23,
   "id": "4c06991d",
   "metadata": {},
   "outputs": [
    {
     "name": "stdout",
     "output_type": "stream",
     "text": [
      "CPU times: user 1.93 s, sys: 5.75 s, total: 7.67 s\n",
      "Wall time: 12min 52s\n"
     ]
    }
   ],
   "source": [
    "%%time\n",
    "## ocr 1000 page\n",
    "OCR_dict={file:pytesseract.image_to_string('../CovidWOBPDFs/'+file, config=custom_config) for file in imgs}"
   ]
  },
  {
   "cell_type": "code",
   "execution_count": 27,
   "id": "75a3d7f6",
   "metadata": {},
   "outputs": [],
   "source": [
    "import pandas as pd\n",
    "\n",
    "df= pd.Series(OCR_dict)\n",
    "df.to_csv('OCRsample1000bladzijden.csv')"
   ]
  },
  {
   "cell_type": "code",
   "execution_count": 28,
   "id": "2b06ee42",
   "metadata": {},
   "outputs": [
    {
     "name": "stdout",
     "output_type": "stream",
     "text": [
      "total 2384\r\n",
      "-rw-r--r--  1 admin  staff   156K Nov 26 20:29 CollectPDFs.ipynb\r\n",
      "-rw-r--r--  1 admin  staff   302K Nov 28 15:20 FontVectorPerPaginaEnDanMaarClusteren.ipynb\r\n",
      "-rw-r--r--  1 admin  staff    78K Nov 28 20:38 OCR_tesseract.ipynb\r\n",
      "-rw-r--r--  1 admin  staff   425K Nov 28 20:50 OCRsample1000bladzijden.csv\r\n",
      "-rw-r--r--  1 admin  staff   219K Nov 28 13:56 test.xml\r\n"
     ]
    }
   ],
   "source": [
    "!ls -lh"
   ]
  },
  {
   "cell_type": "code",
   "execution_count": 33,
   "id": "88f8676d",
   "metadata": {},
   "outputs": [
    {
     "data": {
      "text/plain": [
       "count    1000.000000\n",
       "mean      371.714000\n",
       "std       335.546431\n",
       "min         1.000000\n",
       "25%       182.500000\n",
       "50%       400.000000\n",
       "75%       539.000000\n",
       "max      3554.000000\n",
       "dtype: float64"
      ]
     },
     "execution_count": 33,
     "metadata": {},
     "output_type": "execute_result"
    }
   ],
   "source": [
    "# lengte van de strings per png image.\n",
    "# dat is dus heel erg kort\n",
    "\n",
    "df.str.len().describe()"
   ]
  },
  {
   "cell_type": "code",
   "execution_count": 35,
   "id": "cbfd1ed5",
   "metadata": {},
   "outputs": [
    {
     "data": {
      "image/png": "[encoded data removed]",
      "text/plain": [
       "<Figure size 360x360 with 1 Axes>"
      ]
     },
     "metadata": {
      "needs_background": "light"
     },
     "output_type": "display_data"
    }
   ],
   "source": [
    "%matplotlib inline\n",
    "import seaborn as sns\n",
    "\n",
    "sns.displot(df.str.len());"
   ]
  },
  {
   "cell_type": "code",
   "execution_count": null,
   "id": "1df70253",
   "metadata": {},
   "outputs": [],
   "source": []
  }
 ],
 "metadata": {
  "kernelspec": {
   "display_name": "Python 3",
   "language": "python",
   "name": "python3"
  },
  "language_info": {
   "codemirror_mode": {
    "name": "ipython",
    "version": 3
   },
   "file_extension": ".py",
   "mimetype": "text/x-python",
   "name": "python",
   "nbconvert_exporter": "python",
   "pygments_lexer": "ipython3",
   "version": "3.6.3"
  },
  "toc": {
   "nav_menu": {},
   "number_sections": false,
   "sideBar": true,
   "skip_h1_title": false,
   "title_cell": "Table of Contents",
   "title_sidebar": "Contents",
   "toc_cell": false,
   "toc_position": {},
   "toc_section_display": true,
   "toc_window_display": false
  }
 },
 "nbformat": 4,
 "nbformat_minor": 5
}
