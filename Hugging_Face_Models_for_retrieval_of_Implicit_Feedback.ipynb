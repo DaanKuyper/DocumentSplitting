{
  "cells": [
    {
      "cell_type": "markdown",
      "metadata": {
        "id": "view-in-github",
        "colab_type": "text"
      },
      "source": [
        "<a href=\"https://colab.research.google.com/github/DaanKuyper/DocumentSplitting/blob/master/Hugging_Face_Models_for_retrieval_of_Implicit_Feedback.ipynb\" target=\"_parent\"><img src=\"https://colab.research.google.com/assets/colab-badge.svg\" alt=\"Open In Colab\"/></a>"
      ]
    },
    {
      "cell_type": "markdown",
      "source": [
        "# Retrieval of Implicit Feedback via Hugging Face models\n",
        "### 1. Set up\n",
        "- Import required packages.\n",
        "- Load input data and inspect it.\n",
        "\n",
        "### 2. Preprocessing\n",
        "- Removal of any unnecessary content from input.\n",
        "\n",
        "### 3. De-identification\n",
        " - Identifying and subsequent removal of potential sensitive information from the input for privacy reasons.\n",
        "\n",
        "### 4. Language detection\n",
        "- Detection of language for optimal result gerenation later on.\n",
        "\n",
        "### 5. Insight generation\n",
        "- The running of multiple different NLP tasks in order to depict valuable insights.\n",
        "\n",
        "### 6. Visualisation\n",
        "- Using the output from the NLP models to depict them in more imidiately insightful ways."
      ],
      "metadata": {
        "id": "xjY8zUTWR2m5"
      }
    },
    {
      "cell_type": "code",
      "execution_count": null,
      "metadata": {
        "colab": {
          "base_uri": "https://localhost:8080/"
        },
        "id": "kthVjXBEUpet",
        "outputId": "c2656da7-8166-4c27-a1e6-0cc67d02a330"
      },
      "outputs": [
        {
          "output_type": "stream",
          "name": "stdout",
          "text": [
            "Fri Aug 26 07:25:58 2022       \n",
            "+-----------------------------------------------------------------------------+\n",
            "| NVIDIA-SMI 460.32.03    Driver Version: 460.32.03    CUDA Version: 11.2     |\n",
            "|-------------------------------+----------------------+----------------------+\n",
            "| GPU  Name        Persistence-M| Bus-Id        Disp.A | Volatile Uncorr. ECC |\n",
            "| Fan  Temp  Perf  Pwr:Usage/Cap|         Memory-Usage | GPU-Util  Compute M. |\n",
            "|                               |                      |               MIG M. |\n",
            "|===============================+======================+======================|\n",
            "|   0  Tesla T4            Off  | 00000000:00:04.0 Off |                    0 |\n",
            "| N/A   45C    P8     9W /  70W |      0MiB / 15109MiB |      0%      Default |\n",
            "|                               |                      |                  N/A |\n",
            "+-------------------------------+----------------------+----------------------+\n",
            "                                                                               \n",
            "+-----------------------------------------------------------------------------+\n",
            "| Processes:                                                                  |\n",
            "|  GPU   GI   CI        PID   Type   Process name                  GPU Memory |\n",
            "|        ID   ID                                                   Usage      |\n",
            "|=============================================================================|\n",
            "|  No running processes found                                                 |\n",
            "+-----------------------------------------------------------------------------+\n"
          ]
        }
      ],
      "source": [
        "!nvidia-smi"
      ]
    },
    {
      "cell_type": "markdown",
      "metadata": {
        "id": "SaKnYHC8YmL-"
      },
      "source": [
        "# Imports"
      ]
    },
    {
      "cell_type": "code",
      "execution_count": 1,
      "metadata": {
        "id": "u2k6bHXDX4TQ"
      },
      "outputs": [],
      "source": [
        "%%capture\n",
        "!pip install transformers\n",
        "!pip install pytorch-lightning\n",
        "# !pip install sentencepiece"
      ]
    },
    {
      "cell_type": "code",
      "execution_count": 2,
      "metadata": {
        "id": "x0XFwgTjYdQT"
      },
      "outputs": [],
      "source": [
        "import os\n",
        "import torch\n",
        "import numpy as np\n",
        "import pandas as pd\n",
        "import matplotlib.pyplot as plt\n",
        "\n",
        "from google.colab import drive\n",
        "from transformers import pipeline, AutoTokenizer, AutoModelForSequenceClassification\n",
        "from torch.utils.data import Dataset"
      ]
    },
    {
      "cell_type": "code",
      "execution_count": 3,
      "metadata": {
        "id": "bzk7cqxjYgpc",
        "colab": {
          "base_uri": "https://localhost:8080/"
        },
        "outputId": "f8bacacb-1a22-4e4d-9ea3-92cac9c478ca"
      },
      "outputs": [
        {
          "output_type": "stream",
          "name": "stdout",
          "text": [
            "Drive already mounted at /content/drive; to attempt to forcibly remount, call drive.mount(\"/content/drive\", force_remount=True).\n"
          ]
        }
      ],
      "source": [
        "# Mount google drive for easy access to input csv file.\n",
        "drive.mount('/content/drive', force_remount=False)\n",
        "\n",
        "# The textual input for the following generating of results, a csv file is used. \n",
        "# However, any method of creating a pandas DataFrame for the context is valid.\n",
        "train_path, delimiter = '/content/drive/MyDrive/Scriptie/data.csv', ';'\n",
        "\n",
        "dataframe = pd.read_csv(train_path, delimiter=delimiter)\n",
        "comments = dataframe.comment"
      ]
    },
    {
      "cell_type": "markdown",
      "metadata": {
        "id": "3CUXaWyfYsOJ"
      },
      "source": [
        "# Interaction"
      ]
    },
    {
      "cell_type": "code",
      "source": [
        "class ModelInfo():\n",
        "  \"\"\"\n",
        "  Args:\n",
        "      name (`str`): name of pre-trained model.\n",
        "      task (`str`): name of pipeline task.\n",
        "      language (`str`, *optional*): specific language for the model.\n",
        "  \"\"\"\n",
        "\n",
        "  def __init__(self, task, name, language='all'):\n",
        "    self.task = task\n",
        "    self.name = name\n",
        "    self.language = language\n",
        "\n",
        "  def toString(self):\n",
        "    return f\"{self.task} on '{self.name}' for '{self.language}' language\"\n",
        "\n",
        "\n",
        "\n",
        "class Insight_Generator():\n",
        "  \"\"\"\n",
        "  Args:\n",
        "      input (`List[str]`): List of input texts.\n",
        "      languageModel (`str`, *optional*): Model used for language detection.\n",
        "  \"\"\"\n",
        "\n",
        "  def __init__(\n",
        "      self,\n",
        "      input,\n",
        "      languageModel='papluca/xlm-roberta-base-language-detection'\n",
        "  ):\n",
        "    self.input = self.preprocess(input)\n",
        "    self.languageModel = languageModel\n",
        "\n",
        "    # Subsets of input per specific language\n",
        "    self.language_subsets = {}\n",
        "\n",
        "    # Dictionary of model insight results\n",
        "    self.insights = {}\n",
        "\n",
        "    # Truncation on: for comments longer than 512 token sequence...\n",
        "    self.tokenizer_kwargs = {'truncation':True}\n",
        "\n",
        "  \n",
        "  def preprocess(self, input):\n",
        "    #  - Removing NaN values\n",
        "    df = pd.DataFrame(input)\n",
        "    df.fillna('', inplace=True)\n",
        "\n",
        "    # - Removal of \\n\n",
        "    safe_comments = [comment.replace('\\n', ' ') for comment in df.comment]\n",
        "\n",
        "    return safe_comments\n",
        "\n",
        "\n",
        "  def detectLanguages(self):\n",
        "    ld_df = self.generateInsight(\"text-classification\", self.languageModel)\n",
        "\n",
        "    print(f\"Detected languages: {np.unique(ld_df.label)}\")\n",
        "\n",
        "    # Link original comment back to language detection results\n",
        "    ld_df['comment'] = self.input\n",
        "\n",
        "    # Split dataset in sets of detected language\n",
        "    for language in ld_df.label:\n",
        "      self.language_subsets[language] = \\\n",
        "        ld_df.comment.take(np.where(ld_df.label == language)[0]).tolist()\n",
        "\n",
        "    # Set result as class property to allow for later inspection\n",
        "    self.ld_df = ld_df\n",
        "\n",
        "\n",
        "  def generateInsight(self, task, model, language=\"all\"):\n",
        "    # Device=0 to utilize GPU\n",
        "    classifier = pipeline(task, model=model, device=0)\n",
        "\n",
        "    input = self.languageSpecificInput(language)\n",
        "    dataframe = pd.DataFrame(classifier(input, **self.tokenizer_kwargs))\n",
        "\n",
        "    print(f\"Average score of {dataframe.score.mean()} - for {task} on model '{model}'\")\n",
        "\n",
        "    return dataframe\n",
        "\n",
        "\n",
        "  def generateInsights(self, models):\n",
        "    for model in models:\n",
        "      self.insights[model.toString()] = \\\n",
        "        self.generateInsight(model.task, model.name, model.language)\n",
        "\n",
        "\n",
        "  def languageSpecificInput(self, language):\n",
        "    return self.input if language == \"all\" else self.commentsByLanguage(language).comment\n",
        "  \n",
        "\n",
        "  def commentsByLanguage(self, language):\n",
        "    return self.commentsByLanguages([language])\n",
        "\n",
        "\n",
        "  def commentsByLanguages(self, languages):\n",
        "    return self.ld_df.loc[self.ld_df.label.isin(languages)]\n"
      ],
      "metadata": {
        "id": "NaY-z0McWYNx"
      },
      "execution_count": 66,
      "outputs": []
    },
    {
      "cell_type": "code",
      "source": [
        "generator = Insight_Generator(comments)"
      ],
      "metadata": {
        "id": "bHMuWiwJi2W5"
      },
      "execution_count": 67,
      "outputs": []
    },
    {
      "cell_type": "code",
      "source": [
        "%%time\n",
        "generator.detectLanguages()"
      ],
      "metadata": {
        "colab": {
          "base_uri": "https://localhost:8080/"
        },
        "id": "dL_Z4F-XjFIk",
        "outputId": "a5b3ca73-2388-4a76-f949-4f30388f25b4"
      },
      "execution_count": 68,
      "outputs": [
        {
          "output_type": "stream",
          "name": "stdout",
          "text": [
            "Average score of 0.9811817382880044 - for text-classification on model 'papluca/xlm-roberta-base-language-detection'\n",
            "Detected languages: ['en' 'hi' 'nl' 'pt' 'sw' 'th' 'tr' 'ur']\n",
            "CPU times: user 22.3 s, sys: 1.39 s, total: 23.7 s\n",
            "Wall time: 30.8 s\n"
          ]
        }
      ]
    },
    {
      "cell_type": "code",
      "source": [
        "# The following can be used to view accuracy score for specific languages\n",
        "generator.commentsByLanguage('hi').score.mean()"
      ],
      "metadata": {
        "colab": {
          "base_uri": "https://localhost:8080/"
        },
        "id": "5YeaC08UqeWT",
        "outputId": "b800f4ef-fc4e-4b86-9a37-9eae80bd7c65"
      },
      "execution_count": 69,
      "outputs": [
        {
          "output_type": "execute_result",
          "data": {
            "text/plain": [
              "0.4651397267977397"
            ]
          },
          "metadata": {},
          "execution_count": 69
        }
      ]
    },
    {
      "cell_type": "code",
      "source": [
        "%%time\n",
        "generator.generateInsights([\n",
        "    ModelInfo(\"sentiment-analysis\", \"nlptown/bert-base-multilingual-uncased-sentiment\")\n",
        "])"
      ],
      "metadata": {
        "colab": {
          "base_uri": "https://localhost:8080/"
        },
        "id": "hof7YDcfxOl_",
        "outputId": "4c7f1a03-f5af-41c9-8df5-c85d1f4ad894"
      },
      "execution_count": 70,
      "outputs": [
        {
          "output_type": "stream",
          "name": "stdout",
          "text": [
            "Average score of 0.41914080187431596 - for sentiment-analysis on model 'nlptown/bert-base-multilingual-uncased-sentiment'\n",
            "CPU times: user 19.1 s, sys: 549 ms, total: 19.6 s\n",
            "Wall time: 24.2 s\n"
          ]
        }
      ]
    },
    {
      "cell_type": "code",
      "source": [
        "generator.insights"
      ],
      "metadata": {
        "colab": {
          "base_uri": "https://localhost:8080/"
        },
        "id": "tmedqiZc5gBh",
        "outputId": "cd052057-6320-46de-c18d-e312293f688d"
      },
      "execution_count": 60,
      "outputs": [
        {
          "output_type": "execute_result",
          "data": {
            "text/plain": [
              "{\"sentiment-analysis on 'nlptown/bert-base-multilingual-uncased-sentiment' for all\":         label     score\n",
              " 0     3 stars  0.366226\n",
              " 1     5 stars  0.327739\n",
              " 2      1 star  0.515225\n",
              " 3      1 star  0.469728\n",
              " 4     2 stars  0.332995\n",
              " ...       ...       ...\n",
              " 1384  3 stars  0.564639\n",
              " 1385   1 star  0.435185\n",
              " 1386  5 stars  0.372388\n",
              " 1387   1 star  0.295357\n",
              " 1388   1 star  0.510464\n",
              " \n",
              " [1389 rows x 2 columns]}"
            ]
          },
          "metadata": {},
          "execution_count": 60
        }
      ]
    },
    {
      "cell_type": "markdown",
      "metadata": {
        "id": "ga5rOSYaTTvj"
      },
      "source": [
        "## Visualization"
      ]
    },
    {
      "cell_type": "code",
      "source": [
        "def LabelPiePlot(dataframe):\n",
        "  labels = np.unique(dataframe.label)\n",
        "  ld_gg = dataframe.groupby(by=dataframe.label)\n",
        "\n",
        "  means = []\n",
        "  for label in labels:\n",
        "      means.append(len(ld_gg.groups[label]) / len(dataframe))\n",
        "\n",
        "  fig, ax = plt.subplots()\n",
        "  ax.pie(means, labels=labels, autopct='%1.1f%%', startangle=90)\n",
        "  plt.show()"
      ],
      "metadata": {
        "id": "990NOoTal0ys"
      },
      "execution_count": 61,
      "outputs": []
    },
    {
      "cell_type": "code",
      "source": [
        "LabelPiePlot(generator.insights[\"sentiment-analysis on 'nlptown/bert-base-multilingual-uncased-sentiment' for all\"])"
      ],
      "metadata": {
        "colab": {
          "base_uri": "https://localhost:8080/",
          "height": 248
        },
        "id": "vw1Hr19V6S5z",
        "outputId": "786ca359-ee33-46e7-a6c8-e617b58725c2"
      },
      "execution_count": 65,
      "outputs": [
        {
          "output_type": "display_data",
          "data": {
            "text/plain": [
              "<Figure size 432x288 with 1 Axes>"
            ],
            "image/png": "[encoded data removed]"
          },
          "metadata": {}
        }
      ]
    }
  ],
  "metadata": {
    "accelerator": "GPU",
    "colab": {
      "collapsed_sections": [
        "xjY8zUTWR2m5",
        "wv7LrN4HxTQx",
        "erGAFun-0f9T",
        "k4COyJ6Ra_af",
        "ib-FMy9Mz17W",
        "u-Yg8dhPq0pn",
        "i_bSUlm9zMYM",
        "dwkB0V-EF9P_",
        "Gqr7iqVVHQ1G",
        "WjzPoMrGa3_i",
        "prtLsYFSvxWl",
        "ga5rOSYaTTvj",
        "WHpreUd0j6MG",
        "1EmMcjRysiP8",
        "heWoSoRb10O2"
      ],
      "name": "Hugging Face Models for retrieval of Implicit Feedback.ipynb",
      "provenance": [],
      "authorship_tag": "ABX9TyPqoNZvx2dbTib0Jbia6OSn",
      "include_colab_link": true
    },
    "gpuClass": "standard",
    "kernelspec": {
      "display_name": "Python 3",
      "name": "python3"
    },
    "language_info": {
      "name": "python"
    }
  },
  "nbformat": 4,
  "nbformat_minor": 0
}